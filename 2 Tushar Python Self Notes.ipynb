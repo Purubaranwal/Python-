{
 "cells": [
  {
   "cell_type": "code",
   "execution_count": 1,
   "id": "160c1d3d",
   "metadata": {},
   "outputs": [],
   "source": [
    "fileObject = open(\"data.txt\",\"w\")\n",
    "fileObject.write(\"sgfsfsdfsafwfasfsdf\")\n",
    "fileObject.close()"
   ]
  },
  {
   "cell_type": "code",
   "execution_count": 5,
   "id": "afbe1d7e",
   "metadata": {},
   "outputs": [
    {
     "name": "stdout",
     "output_type": "stream",
     "text": [
      "sgfsfsdfsafwfasfsdf\n"
     ]
    }
   ],
   "source": [
    "fileObject = open(\"data.txt\",\"r\")\n",
    "rd = fileObject.read()\n",
    "print(rd)\n",
    "fileObject.close()"
   ]
  },
  {
   "cell_type": "code",
   "execution_count": 17,
   "id": "08b72c22",
   "metadata": {},
   "outputs": [
    {
     "name": "stdout",
     "output_type": "stream",
     "text": [
      "sgf \n",
      "\n",
      "\n",
      "sfsdfsafwfasfsdf############################@@@@@@@@\n"
     ]
    }
   ],
   "source": [
    "fileObject = open(\"data.txt\",\"r+\") # read and write both, without being flushed at first. \n",
    "rd = fileObject.read(3) \n",
    "print(rd,'\\n\\n')\n",
    "#wr = fileObject.write(\"@@@@\") # will put cursor at last position \n",
    "# write only execute afetr the close()\n",
    "rd = fileObject.read()\n",
    "print(rd)\n",
    "\n",
    "fileObject.close() "
   ]
  },
  {
   "cell_type": "code",
   "execution_count": null,
   "id": "51342e3c",
   "metadata": {},
   "outputs": [],
   "source": [
    "fileObject = open(\"data.txt\",\"r+\") # read and write both,  flushed at first. "
   ]
  },
  {
   "cell_type": "code",
   "execution_count": 18,
   "id": "8ed64496",
   "metadata": {},
   "outputs": [],
   "source": [
    "# to change the cursor position fileObject.seek(n-1)\n",
    "#to check the cursor position print(fileObject.tell())\n",
    "#Write() overwrite the content if already present in r+ "
   ]
  },
  {
   "cell_type": "code",
   "execution_count": null,
   "id": "294f6948",
   "metadata": {},
   "outputs": [],
   "source": []
  },
  {
   "cell_type": "code",
   "execution_count": 20,
   "id": "89ad0017",
   "metadata": {},
   "outputs": [
    {
     "name": "stdout",
     "output_type": "stream",
     "text": [
      "123\n",
      "7\n"
     ]
    }
   ],
   "source": [
    "fileObject = open(\"data.txt\",\"r+\") # read and write both, without being flushed at first. \n",
    "rd = fileObject.read(3) \n",
    "print(rd)\n",
    "#wr = fileObject.write(\"@@@@\") # will put cursor at last position \n",
    "# write only execute afetr the close()\n",
    "# a for append. a+ for append and read\n",
    "rd = fileObject.write(\"1545454\")\n",
    "print(rd)\n",
    "\n",
    "fileObject.close() "
   ]
  },
  {
   "cell_type": "code",
   "execution_count": 21,
   "id": "c0b727ee",
   "metadata": {},
   "outputs": [],
   "source": [
    "#convert a number into a binary number hexadecimal and octa decimal"
   ]
  },
  {
   "cell_type": "code",
   "execution_count": 25,
   "id": "e83d95d7",
   "metadata": {},
   "outputs": [
    {
     "name": "stdout",
     "output_type": "stream",
     "text": [
      "5\n",
      "101\n"
     ]
    }
   ],
   "source": [
    "n = int(input())\n",
    "s = ''\n",
    "while True:\n",
    "    if n!= 1:\n",
    "        s=s+str(n%2)\n",
    "        n=n//2\n",
    "    else:\n",
    "        s=s+str(1)\n",
    "        break\n",
    "print(s)        "
   ]
  },
  {
   "cell_type": "code",
   "execution_count": 29,
   "id": "08703e8f",
   "metadata": {},
   "outputs": [
    {
     "name": "stdout",
     "output_type": "stream",
     "text": [
      "153\n",
      "131\n"
     ]
    }
   ],
   "source": [
    "n = int(input())\n",
    "s = ''\n",
    "while True:\n",
    "    if n>8:\n",
    "        s=s+str(n%8)\n",
    "        n=n//8\n",
    "    else:\n",
    "        s=s+str(1)\n",
    "        break\n",
    "print(s)        "
   ]
  },
  {
   "cell_type": "code",
   "execution_count": null,
   "id": "ead0d2cf",
   "metadata": {},
   "outputs": [],
   "source": [
    "#Assignment\n",
    "# you have to tAKE  a iput of user separetd by commas, and you need to check whther that pearticular woed os \n",
    "# available in the line of another file. if it is availbel we will be saving it into a file called \n",
    "# datamatch.txt and in case file is not availble create the file."
   ]
  },
  {
   "cell_type": "code",
   "execution_count": 53,
   "id": "7a9c4ef3",
   "metadata": {},
   "outputs": [
    {
     "name": "stdout",
     "output_type": "stream",
     "text": [
      "The title() method returns a string where the first character in every word is upper case. Like a header, or a title. If the word contains a number or a ..\n"
     ]
    }
   ],
   "source": [
    "fileObject = open(\"data.txt\",\"r\")\n",
    "rd = fileObject.read() \n",
    "rd = rd.strip(\"/n\")\n",
    "print(rd)\n",
    "fileObject.close() "
   ]
  },
  {
   "cell_type": "code",
   "execution_count": 54,
   "id": "2f3f17ae",
   "metadata": {},
   "outputs": [],
   "source": [
    "sp = rd.split()"
   ]
  },
  {
   "cell_type": "code",
   "execution_count": 59,
   "id": "ddf565fd",
   "metadata": {},
   "outputs": [
    {
     "name": "stdout",
     "output_type": "stream",
     "text": [
      "Upper dfdsf\n"
     ]
    }
   ],
   "source": [
    "st = input()\n",
    "l = [i for i in st.split() if i.lower() not in sp and i.upper() not in sp and i.title() not in sp]\n",
    "l = ' '.join(l)\n",
    "fileObject = open(\"datamatch.txt\",\"w\") \n",
    "fileObject.write(str(l))\n",
    "fileObject.close()"
   ]
  },
  {
   "cell_type": "code",
   "execution_count": null,
   "id": "c05613a3",
   "metadata": {},
   "outputs": [],
   "source": [
    "# method overloading and method overwriting difference:\n",
    "Method Overloading\n",
    "Method Overriding\n",
    "\n",
    "Method overloading is used to increase the readability of the program.\n",
    "Method overriding is used to provide the specific implementation of the method that is already provided by its super class.\n",
    "\n",
    "Method overloading is performed within class.\n",
    "Method overriding occurs in two classes that have IS-A (inheritance) relationship.\n",
    "\n",
    "In case of method overloading, parameter must be different.\n",
    "In case of method overriding, parameter must be same.\n",
    "\n",
    "Method overloading is the example of compile time polymorphism.\n",
    "Method overriding is the example of run time polymorphism.\n",
    "\n",
    "In java, method overloading can't be performed by changing return type of the method only. Return type can be same or\n",
    "different in method overloading. But you must have to change the parameter.\n",
    "Return type must be same or covariant in method overriding."
   ]
  },
  {
   "cell_type": "code",
   "execution_count": null,
   "id": "87d8458a",
   "metadata": {},
   "outputs": [],
   "source": []
  },
  {
   "cell_type": "code",
   "execution_count": null,
   "id": "322772e0",
   "metadata": {},
   "outputs": [],
   "source": [
    "## Do learn about the 'w', 'r', 'x', 'a', 'r+', ....which open a file without error, which erase the data first, ...."
   ]
  },
  {
   "cell_type": "code",
   "execution_count": 61,
   "id": "ae702dfc",
   "metadata": {},
   "outputs": [],
   "source": [
    "# First Class:\n",
    "    \n",
    "def sq(a):\n",
    "    return a**2\n",
    "\n",
    "c=sq\n",
    "\n",
    "# c()\n",
    "    \n",
    "# High Order:\n",
    "    \n",
    "def sqsq(sq):\n",
    "    a=sq\n",
    "    return a(2)\n",
    "    "
   ]
  },
  {
   "cell_type": "code",
   "execution_count": 63,
   "id": "fc0d749a",
   "metadata": {},
   "outputs": [
    {
     "data": {
      "text/plain": [
       "4"
      ]
     },
     "execution_count": 63,
     "metadata": {},
     "output_type": "execute_result"
    }
   ],
   "source": [
    "sqsq(sq)"
   ]
  },
  {
   "cell_type": "code",
   "execution_count": 64,
   "id": "d386cb5d",
   "metadata": {},
   "outputs": [],
   "source": [
    "#why indentation error are not handled\n",
    "#IQ difference method overloading and method overwsriting. \n"
   ]
  },
  {
   "cell_type": "code",
   "execution_count": 81,
   "id": "3e93a424",
   "metadata": {
    "collapsed": true
   },
   "outputs": [],
   "source": [
    "fileObject = open('data.txt','r')\n",
    "rd = fileObject.read()\n",
    "fileObject.close()"
   ]
  },
  {
   "cell_type": "code",
   "execution_count": 82,
   "id": "228a642f",
   "metadata": {
    "collapsed": true
   },
   "outputs": [
    {
     "data": {
      "text/plain": [
       "'Name, Class, Email\\nPuru1, DS, Purubaranwal1@gmail.com\\nRahul, DS, Rahul@yahoomail.com\\nPuru2, DS, Purubaranwal1@gmail.com\\nPuru3, DS, Purubaranwal1@gmail.com\\nPuru4, DS, Purubaranwal1@gmail.com'"
      ]
     },
     "execution_count": 82,
     "metadata": {},
     "output_type": "execute_result"
    }
   ],
   "source": [
    "rd"
   ]
  },
  {
   "cell_type": "code",
   "execution_count": 83,
   "id": "a490e651",
   "metadata": {
    "collapsed": true
   },
   "outputs": [],
   "source": [
    "ls = rd.split('\\n')"
   ]
  },
  {
   "cell_type": "code",
   "execution_count": 89,
   "id": "943b5951",
   "metadata": {},
   "outputs": [
    {
     "data": {
      "text/plain": [
       "['Name, Class, Email',\n",
       " 'Puru1, DS, Purubaranwal1@gmail.com',\n",
       " 'Rahul, DS, Rahul@yahoomail.com',\n",
       " 'Puru2, DS, Purubaranwal1@gmail.com',\n",
       " 'Puru3, DS, Purubaranwal1@gmail.com',\n",
       " 'Puru4, DS, Purubaranwal1@gmail.com']"
      ]
     },
     "execution_count": 89,
     "metadata": {},
     "output_type": "execute_result"
    }
   ],
   "source": [
    "ls"
   ]
  },
  {
   "cell_type": "code",
   "execution_count": 92,
   "id": "7ee1f61a",
   "metadata": {},
   "outputs": [
    {
     "name": "stdout",
     "output_type": "stream",
     "text": [
      "Puru1, DS, Purubaranwal1@gmail.com\n",
      "Puru2, DS, Purubaranwal1@gmail.com\n",
      "Puru3, DS, Purubaranwal1@gmail.com\n",
      "Puru4, DS, Purubaranwal1@gmail.com\n",
      "\n",
      " Puru1$ DS$ Purubaranwal1@gmail.com\n",
      "Puru2$ DS$ Purubaranwal1@gmail.com\n",
      "Puru3$ DS$ Purubaranwal1@gmail.com\n",
      "Puru4$ DS$ Purubaranwal1@gmail.com\n"
     ]
    }
   ],
   "source": [
    "new = '\\n'.join([i for i in ls if 'gmail.com' in i])\n",
    "print(new)\n",
    "new = new.replace(',','$')\n",
    "print('\\n',new)"
   ]
  },
  {
   "cell_type": "code",
   "execution_count": 87,
   "id": "bb6f0b3f",
   "metadata": {
    "collapsed": true
   },
   "outputs": [],
   "source": [
    "fileObject = open(\"data_gmail.txt\",'w')\n",
    "fileObject.write(new)\n",
    "fileObject.close()"
   ]
  },
  {
   "cell_type": "code",
   "execution_count": 2,
   "id": "7a4dff09",
   "metadata": {},
   "outputs": [
    {
     "data": {
      "text/plain": [
       "True"
      ]
     },
     "execution_count": 2,
     "metadata": {},
     "output_type": "execute_result"
    }
   ],
   "source": [
    "'12'.isnumeric()"
   ]
  },
  {
   "cell_type": "code",
   "execution_count": 93,
   "id": "d3d50612",
   "metadata": {},
   "outputs": [],
   "source": [
    "# Top String Manipulation Functions\n",
    "\n",
    "# text.capitalize( ) function\n",
    "# text.lower( ) function\n",
    "# text.title( ) function\n",
    "# text.upper( ) function\n",
    "# text.count( ) function\n",
    "# text.find( ) function\n",
    "# text.replace( ) function\n",
    "# text.join( ) function\n",
    "# text.index( ) function\n",
    "# text.isalpha( ) function\n",
    "# text.isdigit( ) function\n",
    "# text.isnumeric( ) function\n",
    "# text.strip( ) function\n",
    "# text.split( ) function \n",
    "# text.lstrip( ) function\n",
    "# text.rstrip( ) function\n",
    "\n",
    "\n",
    "# The only difference between the two is\n",
    "# that the find() method will return -1 if the value is not found in\n",
    "# the string, while the index() method will result in an error if the\n",
    "# value does not occur. Both methods take three arguments, \n",
    "# # the first of which is required. "
   ]
  },
  {
   "cell_type": "code",
   "execution_count": 131,
   "id": "7087ceb2",
   "metadata": {},
   "outputs": [],
   "source": [
    "s = '''the First value of enumerate (in this case i) returns. the next index value starting at 0 so 0, 1, 2, 3.\n",
    "it will always return these numbers regardless of ...\n",
    "'''"
   ]
  },
  {
   "cell_type": "code",
   "execution_count": 132,
   "id": "bfce9a6b",
   "metadata": {},
   "outputs": [
    {
     "data": {
      "text/plain": [
       "'The first value of enumerate (in this case i) returns. the next index value starting at 0 so 0, 1, 2, 3.\\nit will always return these numbers regardless of ...\\n'"
      ]
     },
     "execution_count": 132,
     "metadata": {},
     "output_type": "execute_result"
    }
   ],
   "source": [
    "s.capitalize()"
   ]
  },
  {
   "cell_type": "code",
   "execution_count": 133,
   "id": "5e51bae3",
   "metadata": {},
   "outputs": [
    {
     "data": {
      "text/plain": [
       "'the first value of enumerate (in this case i) returns. the next index value starting at 0 so 0, 1, 2, 3.\\nit will always return these numbers regardless of ...\\n'"
      ]
     },
     "execution_count": 133,
     "metadata": {},
     "output_type": "execute_result"
    }
   ],
   "source": [
    "s.lower()"
   ]
  },
  {
   "cell_type": "code",
   "execution_count": 134,
   "id": "f6af64de",
   "metadata": {},
   "outputs": [
    {
     "data": {
      "text/plain": [
       "'The First Value Of Enumerate (In This Case I) Returns. The Next Index Value Starting At 0 So 0, 1, 2, 3.\\nIt Will Always Return These Numbers Regardless Of ...\\n'"
      ]
     },
     "execution_count": 134,
     "metadata": {},
     "output_type": "execute_result"
    }
   ],
   "source": [
    "s.title()"
   ]
  },
  {
   "cell_type": "code",
   "execution_count": 135,
   "id": "fc1ea6dd",
   "metadata": {},
   "outputs": [
    {
     "data": {
      "text/plain": [
       "'the first value of enumerate (in this case i) returns. the next index value starting at 0 so 0, 1, 2, 3.\\nit will always return these numbers regardless of ...\\n'"
      ]
     },
     "execution_count": 135,
     "metadata": {},
     "output_type": "execute_result"
    }
   ],
   "source": [
    "s.casefold()"
   ]
  },
  {
   "cell_type": "code",
   "execution_count": 143,
   "id": "bde650e8",
   "metadata": {},
   "outputs": [
    {
     "data": {
      "text/plain": [
       "4"
      ]
     },
     "execution_count": 143,
     "metadata": {},
     "output_type": "execute_result"
    }
   ],
   "source": [
    "s.find('First')"
   ]
  },
  {
   "cell_type": "code",
   "execution_count": 161,
   "id": "979fa819",
   "metadata": {},
   "outputs": [
    {
     "data": {
      "text/plain": [
       "4"
      ]
     },
     "execution_count": 161,
     "metadata": {},
     "output_type": "execute_result"
    }
   ],
   "source": [
    "s.index('First')"
   ]
  },
  {
   "cell_type": "code",
   "execution_count": 3,
   "id": "e947ab99",
   "metadata": {},
   "outputs": [
    {
     "name": "stdout",
     "output_type": "stream",
     "text": [
      "['geeks, for, geeks, pawan']\n",
      "['geeks', 'for', 'geeks', 'pawan']\n",
      "['geeks', 'for, geeks, pawan']\n"
     ]
    }
   ],
   "source": [
    "# str.split(separator, maxsplit)\n",
    "# Parameters :\n",
    "\n",
    "# separator : This is a delimiter. The string splits at this specified separator. If is not provided then any white space is a \n",
    "# separator.\n",
    "# maxsplit : It is a number, which tells us to split the string into maximum of provided number of times. If it is not provided \n",
    "# then the default is -1 that means there is no limit.\n",
    "# Returns : Returns a list of strings after breaking the given string by the specified separator.\n",
    "\n",
    "\n",
    "word = 'geeks, for, geeks, pawan'\n",
    " \n",
    "# maxsplit: 0\n",
    "print(word.split(', ', 0))\n",
    " \n",
    "# maxsplit: 4\n",
    "print(word.split(', ', 3))\n",
    " \n",
    "# maxsplit: 1\n",
    "print(word.split(', ', 1))"
   ]
  },
  {
   "cell_type": "code",
   "execution_count": 158,
   "id": "e8538cf7",
   "metadata": {},
   "outputs": [
    {
     "data": {
      "text/plain": [
       "'a.b.c.d.e.f.g.h.i.j.k.l.m.n.o.p'"
      ]
     },
     "execution_count": 158,
     "metadata": {},
     "output_type": "execute_result"
    }
   ],
   "source": [
    "'.'.join('abcdefghijklmnop')"
   ]
  },
  {
   "cell_type": "code",
   "execution_count": 160,
   "id": "c4afe010",
   "metadata": {},
   "outputs": [
    {
     "data": {
      "text/plain": [
       "'a.b.c.d.e.f.g.h.i.j.k.l.m.n.o.p'"
      ]
     },
     "execution_count": 160,
     "metadata": {},
     "output_type": "execute_result"
    }
   ],
   "source": [
    "'.'.join(['a','b','c','d','e','f','g','h','i','j','k','l','m','n','o','p']) # join works for both list and string. Though more \n",
    "# useful in list case.\n",
    "# However the condition is list must all string elements. "
   ]
  },
  {
   "cell_type": "code",
   "execution_count": 152,
   "id": "d5337f5a",
   "metadata": {},
   "outputs": [
    {
     "data": {
      "text/plain": [
       "'cdcd cdcd abcd abcd'"
      ]
     },
     "execution_count": 152,
     "metadata": {},
     "output_type": "execute_result"
    }
   ],
   "source": [
    "'abcd abcd abcd abcd'.replace('ab','cd',2)"
   ]
  },
  {
   "cell_type": "code",
   "execution_count": 123,
   "id": "5d5b4260",
   "metadata": {},
   "outputs": [],
   "source": [
    "a = \"Abcd\""
   ]
  },
  {
   "cell_type": "code",
   "execution_count": 162,
   "id": "f1a7df9f",
   "metadata": {},
   "outputs": [
    {
     "data": {
      "text/plain": [
       "'ABCD'"
      ]
     },
     "execution_count": 162,
     "metadata": {},
     "output_type": "execute_result"
    }
   ],
   "source": [
    "a.lower().upper()"
   ]
  },
  {
   "cell_type": "code",
   "execution_count": 167,
   "id": "97215d6b",
   "metadata": {},
   "outputs": [
    {
     "data": {
      "text/plain": [
       "'dfdwdsdwdsaddddd'"
      ]
     },
     "execution_count": 167,
     "metadata": {},
     "output_type": "execute_result"
    }
   ],
   "source": [
    "'dfd wdsd wdsad d dd d '.replace(' ','')"
   ]
  },
  {
   "cell_type": "code",
   "execution_count": 4,
   "id": "53a6c114",
   "metadata": {},
   "outputs": [],
   "source": [
    "l=[]"
   ]
  },
  {
   "cell_type": "code",
   "execution_count": 5,
   "id": "9676bb43",
   "metadata": {},
   "outputs": [
    {
     "data": {
      "text/plain": [
       "True"
      ]
     },
     "execution_count": 5,
     "metadata": {},
     "output_type": "execute_result"
    }
   ],
   "source": [
    "l.extend(\"Pack my box with five dozen liquor jugs.\".replace(' ',''))\n",
    "# l = list(set(l))\n",
    "len([i for i in list(set(l)) if i.isalpha()] )== 26"
   ]
  },
  {
   "cell_type": "code",
   "execution_count": 187,
   "id": "97a25e7f",
   "metadata": {},
   "outputs": [],
   "source": [
    "l = [i for i in l if i.isalpha() ]"
   ]
  },
  {
   "cell_type": "code",
   "execution_count": 189,
   "id": "2465f9ef",
   "metadata": {},
   "outputs": [
    {
     "data": {
      "text/plain": [
       "39"
      ]
     },
     "execution_count": 189,
     "metadata": {},
     "output_type": "execute_result"
    }
   ],
   "source": [
    "len(l)"
   ]
  },
  {
   "cell_type": "code",
   "execution_count": 240,
   "id": "55262c20",
   "metadata": {},
   "outputs": [],
   "source": [
    "s = 'aawwwwddddxx'\n",
    "o = 'dwax'\n",
    "l=[]"
   ]
  },
  {
   "cell_type": "code",
   "execution_count": 241,
   "id": "d86cdd63",
   "metadata": {},
   "outputs": [],
   "source": [
    "l.extend(s)\n",
    "d = {i:s.count(i) for i in set(l)}"
   ]
  },
  {
   "cell_type": "code",
   "execution_count": 242,
   "id": "b144c293",
   "metadata": {},
   "outputs": [
    {
     "data": {
      "text/plain": [
       "[('d', 4), ('w', 4), ('a', 2), ('x', 2)]"
      ]
     },
     "execution_count": 242,
     "metadata": {},
     "output_type": "execute_result"
    }
   ],
   "source": [
    "sorted(d.items(), key = lambda x:x[1], reverse = True)"
   ]
  },
  {
   "cell_type": "code",
   "execution_count": 302,
   "id": "de0257ff",
   "metadata": {},
   "outputs": [
    {
     "name": "stdout",
     "output_type": "stream",
     "text": [
      "['e', 'q', 'r', 't', 'w', 'y']\n",
      "['e', 'q', 'r', 't', 'w', 'y']\n",
      "['h', 'n', 'o', 'p', 't', 'y']\n",
      "['e', 'q', 'r', 't', 'w', 'y']\n",
      "['e', 'q', 'r', 't', 'w', 'y']\n",
      "['e', 'q', 'r', 't', 'w', 'y']\n"
     ]
    }
   ],
   "source": [
    "# differnce between list.sort( ) and sorted(list/iterable),\n",
    "# list.sort( ) --> chnages the original list, doesn't return anything.\n",
    "# sorted(list) --> doesn't change the original list. return the sorted version of list as diefined criteria. \n",
    "\n",
    "\n",
    "\n",
    "## Syntax: sorted(iterable, key, reverse) ##\n",
    "\n",
    "# Parameters: sorted takes three parameters from which two are optional. \n",
    "\n",
    "# Iterable: sequence (list, tuple, string) or collection (dictionary, set, frozenset) or any other iterator that needs to be \n",
    "# sorted.\n",
    "# Key(optional): A function that would serve as a key or a basis of sort comparison.\n",
    "# Reverse(optional): If True, then the iterable would be sorted in reverse (descending) order, by default it is set as False.\n",
    "# Return: Returns a list with elements in sorted order.\n",
    "\n",
    "\n",
    "# List\n",
    "x = ['q', 'w', 'r', 'e', 't', 'y']\n",
    "print(sorted(x)) #1\n",
    "  \n",
    "# Tuple\n",
    "x = ('q', 'w', 'e', 'r', 't', 'y')\n",
    "print(sorted(x)) #2\n",
    "  \n",
    "# String-sorted based on ASCII translations\n",
    "x = \"python\"\n",
    "print(sorted(x)) #3\n",
    "  \n",
    "# Dictionary\n",
    "x = {'q': 1, 'w': 2, 'e': 3, 'r': 4, 't': 5, 'y': 6}\n",
    "print(sorted(x)) #4\n",
    "  \n",
    "# Set\n",
    "x = {'q', 'w', 'e', 'r', 't', 'y'}\n",
    "print(sorted(x)) #5\n",
    "  \n",
    "# Frozen Set\n",
    "x = frozenset(('q', 'w', 'e', 'r', 't', 'y'))\n",
    "print(sorted(x))#6\n",
    "\n",
    "\n",
    "# ['e', 'q', 'r', 't', 'w', 'y'] 1\n",
    "# ['e', 'q', 'r', 't', 'w', 'y'] 2\n",
    "# ['h', 'n', 'o', 'p', 't', 'y'] 3\n",
    "# ['e', 'q', 'r', 't', 'w', 'y'] 4\n",
    "# ['e', 'q', 'r', 't', 'w', 'y'] 5\n",
    "# ['e', 'q', 'r', 't', 'w', 'y'] 6"
   ]
  },
  {
   "cell_type": "code",
   "execution_count": 303,
   "id": "05faacc6",
   "metadata": {},
   "outputs": [
    {
     "name": "stdout",
     "output_type": "stream",
     "text": [
      "Normal sort : ['aaa', 'b', 'cccc', 'dd']\n",
      "Sort with len : ['b', 'dd', 'aaa', 'cccc']\n"
     ]
    }
   ],
   "source": [
    "L = [\"cccc\", \"b\", \"dd\", \"aaa\"]\n",
    "  \n",
    "print(\"Normal sort :\", sorted(L))\n",
    "  \n",
    "print(\"Sort with len :\", sorted(L, key=len))"
   ]
  },
  {
   "cell_type": "code",
   "execution_count": 304,
   "id": "5b27726c",
   "metadata": {},
   "outputs": [
    {
     "name": "stdout",
     "output_type": "stream",
     "text": [
      "Normal sort : [3, 7, 11, 15]\n",
      "Sorted with key: [7, 15, 3, 11]\n"
     ]
    }
   ],
   "source": [
    "def func(x):\n",
    "    return x % 7\n",
    "  \n",
    "L = [15, 3, 11, 7]\n",
    "  \n",
    "print(\"Normal sort :\", sorted(L))\n",
    "print(\"Sorted with key:\", sorted(L, key=func))"
   ]
  },
  {
   "cell_type": "code",
   "execution_count": 244,
   "id": "52e8baef",
   "metadata": {},
   "outputs": [],
   "source": [
    "l = []\n",
    "l.extend('abcd')"
   ]
  },
  {
   "cell_type": "code",
   "execution_count": 247,
   "id": "bced7394",
   "metadata": {},
   "outputs": [
    {
     "name": "stdout",
     "output_type": "stream",
     "text": [
      "['pepperoni', 'sausage', 'mushroom', ['onion', 'bacon']]\n",
      "['pepperoni', 'sausage', 'mushroom', 'onion', 'bacon']\n"
     ]
    }
   ],
   "source": [
    "# list.append() \n",
    "# list.extend()\n",
    "# both require the list to already present. Besides both of them \n",
    "# doestn't return anything. They just perform respective actions\n",
    "# to the list. AFter applying these original list gets updated.\n",
    "more_toppings = ['onion', 'bacon']\n",
    "toppings = ['pepperoni', 'sausage', 'mushroom']\n",
    "toppings.append(more_toppings)\n",
    "print(toppings)\n",
    "# toppings--> ['pepperoni', 'sausage', 'mushroom', ['onion', 'bacon']]\n",
    "\n",
    "toppings = ['pepperoni', 'sausage', 'mushroom']\n",
    "more_toppings = ['onion', 'bacon']\n",
    "toppings.extend(more_toppings)\n",
    "print(toppings)\n",
    "# toppings--> ['pepperoni', 'sausage', 'mushroom', 'onion', 'bacon']\n",
    "\n"
   ]
  },
  {
   "cell_type": "code",
   "execution_count": 258,
   "id": "5491e32a",
   "metadata": {},
   "outputs": [],
   "source": [
    "# Syntax: list.insert(index, value)\n",
    "# Doesn't return value. Just changes the original list. \n",
    "toppings = ['pepperoni', 'sausage', 'mushroom']\n",
    "toppings.insert(1, 'onion')\n",
    "# --> ['pepperoni', 'onion', 'sausage', 'mushroom']"
   ]
  },
  {
   "cell_type": "code",
   "execution_count": 249,
   "id": "ca047fc6",
   "metadata": {},
   "outputs": [
    {
     "name": "stdout",
     "output_type": "stream",
     "text": [
      "['pepperoni', 'mushroom']\n"
     ]
    }
   ],
   "source": [
    "# Syntax: list.remove(item) Doesn't return anything just perform\n",
    "# the action in original list.\n",
    "toppings = ['pepperoni', 'sausage', 'mushroom']\n",
    "toppings.remove('sausage') \n",
    "print(toppings)\n",
    "# toppings--> ['pepperoni', 'mushroom']\n",
    "\n",
    "# Syntax: list.pop(index)  Return the removed value\n",
    "# by default, pop() will remove the last item in\n",
    "# the list, as the default value is -1.\n",
    "toppings = ['pepperoni', 'sausage', 'mushroom']\n",
    "toppings.pop(1)\n",
    "# toppings--> ['pepperoni', 'mushroom']\n",
    "toppings.pop()\n",
    "# toppings--> ['pepperoni']\n",
    "\n",
    "# If you wanted to retrieve the removed item...\n",
    "extra = toppings.pop(1)\n",
    "# extra --> 'sausage'"
   ]
  },
  {
   "cell_type": "code",
   "execution_count": 253,
   "id": "67db7633",
   "metadata": {},
   "outputs": [],
   "source": [
    "# Syntax: list.sort(reverse=True|False, key=function)\n",
    "# It doesn't return any value. But changes the original list. \n",
    "# So you loose your original list. \n",
    "\n",
    "toppings = ['pepperoni', 'sausage', 'mushroom']\n",
    "toppings.sort()\n",
    "# toppings--> ['mushroom', 'pepperoni', 'sausage']\n",
    "toppings.sort(reverse=True)\n",
    "# toppings--> ['sausage', 'pepperoni', 'mushroom']\n",
    "\n",
    "\n",
    "toppings.sort(reverse=True, key=lambda x: len(x))\n",
    "# toppings--> ['pepperoni', 'mushroom', 'sausage']\n",
    "# Sorted in reverse order by length of the topping name\n",
    "\n",
    "prices = [1.50, 2.00, 0.50]\n",
    "prices.sort(reverse=False)\n",
    "# toppings--> [0.50, 1.50, 2.00]\n",
    "prices.sort(reverse=True)\n",
    "# toppings--> [2.00, 1.50, 0.50]\n",
    "\n",
    "pies = [['bacon', 'ranch'], ['sausage', 'peppers']]\n",
    "pies.sort(reverse=True)\n",
    "# toppings--> [['sausage', 'peppers'], ['bacon', 'ranch']]\n",
    "# Sorts iterators by their first value"
   ]
  },
  {
   "cell_type": "code",
   "execution_count": 307,
   "id": "91880773",
   "metadata": {},
   "outputs": [
    {
     "data": {
      "text/plain": [
       "['pepperoni', 'mushroom', 'sausage']"
      ]
     },
     "execution_count": 307,
     "metadata": {},
     "output_type": "execute_result"
    }
   ],
   "source": [
    "toppings = ['pepperoni', 'sausage', 'mushroom']\n",
    "toppings = ['pepperoni', 'sausage', 'mushroom']\n",
    "toppings.sort(key=lambda x: len(x), reverse=True)\n",
    "toppings"
   ]
  },
  {
   "cell_type": "code",
   "execution_count": 256,
   "id": "fd1ed575",
   "metadata": {},
   "outputs": [
    {
     "data": {
      "text/plain": [
       "['mushroom', 'pepperoni', 'sausage']"
      ]
     },
     "execution_count": 256,
     "metadata": {},
     "output_type": "execute_result"
    }
   ],
   "source": [
    "toppings = ['pepperoni', 'sausage', 'mushroom']\n",
    "toppings.sort()\n",
    "toppings"
   ]
  },
  {
   "cell_type": "code",
   "execution_count": 257,
   "id": "1bc92c34",
   "metadata": {},
   "outputs": [
    {
     "data": {
      "text/plain": [
       "0"
      ]
     },
     "execution_count": 257,
     "metadata": {},
     "output_type": "execute_result"
    }
   ],
   "source": [
    "# Syntax: list.count(item)\n",
    "#  Returns the value of count. \n",
    "toppings = ['pepperoni', 'sausage', 'mushroom', 'sausage']\n",
    "toppings.count('sausage')\n",
    "# --> 2\n",
    "toppings.count('pepperoni')\n",
    "# --> 1\n",
    "toppings.count('bacon')\n",
    "# --> 0"
   ]
  },
  {
   "cell_type": "code",
   "execution_count": null,
   "id": "4d5740ff",
   "metadata": {},
   "outputs": [],
   "source": [
    "# Syntax: list.index(item)\n",
    "# It returns the value\n",
    "toppings = ['pepperoni', 'sausage', 'mushroom', 'sausage']\n",
    "toppings.index('mushroom')\n",
    "# --> 2\n",
    "toppings.index('pepperoni')\n",
    "# --> 0"
   ]
  },
  {
   "cell_type": "code",
   "execution_count": null,
   "id": "89543773",
   "metadata": {},
   "outputs": [],
   "source": [
    "# Syntax: list.copy()\n",
    "\n",
    "toppings = ['pepperoni', 'sausage', 'mushroom']\n",
    "toppings2 = toppings.copy()\n",
    "toppings2 --> ['pepperoni', 'sausage', 'mushroom']"
   ]
  },
  {
   "cell_type": "code",
   "execution_count": 259,
   "id": "a7050536",
   "metadata": {},
   "outputs": [
    {
     "name": "stdout",
     "output_type": "stream",
     "text": [
      "['pepperoni', 'sausage', 'mushroom']\n",
      "['pepperoni', 'sausage']\n"
     ]
    }
   ],
   "source": [
    "# Syntax: list.copy()\n",
    "# Direct using a = b will change the original list whenever change is\n",
    "# done in copied list. Therefore to avoid this situation we use copy()\n",
    "# method.\n",
    "toppings = ['pepperoni', 'sausage', 'mushroom']\n",
    "toppings2 = toppings.copy()\n",
    "toppings2.pop()\n",
    "print(toppings)\n",
    "print(toppings2)"
   ]
  },
  {
   "cell_type": "code",
   "execution_count": null,
   "id": "b533404a",
   "metadata": {},
   "outputs": [],
   "source": [
    "# The clear() method simply removes all items from a list, \n",
    "# leaving an empty list. The method takes no arguments.\n",
    "\n",
    "# Syntax: list.clear()\n",
    "toppings = ['pepperoni', 'sausage', 'mushroom']\n",
    "toppings.clear()\n",
    "# --> []"
   ]
  },
  {
   "cell_type": "code",
   "execution_count": null,
   "id": "3b0297d6",
   "metadata": {},
   "outputs": [],
   "source": []
  },
  {
   "cell_type": "code",
   "execution_count": null,
   "id": "19285ead",
   "metadata": {},
   "outputs": [],
   "source": []
  },
  {
   "cell_type": "code",
   "execution_count": null,
   "id": "c8cecf56",
   "metadata": {},
   "outputs": [],
   "source": []
  },
  {
   "cell_type": "code",
   "execution_count": null,
   "id": "cc52f541",
   "metadata": {},
   "outputs": [],
   "source": []
  },
  {
   "cell_type": "code",
   "execution_count": null,
   "id": "d0e658ce",
   "metadata": {},
   "outputs": [],
   "source": []
  },
  {
   "cell_type": "code",
   "execution_count": null,
   "id": "c1f53eb1",
   "metadata": {},
   "outputs": [],
   "source": []
  },
  {
   "cell_type": "code",
   "execution_count": 284,
   "id": "0e739bcd",
   "metadata": {},
   "outputs": [],
   "source": [
    "# Question is on unofficial Group of Futurense\n",
    "\n",
    "def isPrime(n):\n",
    "    if n ==1 or n== 2:\n",
    "        return True\n",
    "    else:\n",
    "        for i in range(2,int(n/2)+1): #(2, 11)\n",
    "            if n%i ==0:\n",
    "                return False\n",
    "            else:\n",
    "                pass\n",
    "        return True\n"
   ]
  },
  {
   "cell_type": "code",
   "execution_count": 285,
   "id": "7c27eca3",
   "metadata": {},
   "outputs": [
    {
     "data": {
      "text/plain": [
       "False"
      ]
     },
     "execution_count": 285,
     "metadata": {},
     "output_type": "execute_result"
    }
   ],
   "source": [
    "isPrime(4)"
   ]
  },
  {
   "cell_type": "code",
   "execution_count": 283,
   "id": "5b673385",
   "metadata": {},
   "outputs": [
    {
     "name": "stdout",
     "output_type": "stream",
     "text": [
      "42\n",
      "5\n"
     ]
    }
   ],
   "source": [
    "k = int(input())\n",
    "while True:\n",
    "    if isPrime(k)==True:\n",
    "        print(int(k))\n",
    "        break\n",
    "    elif k%2 ==0:\n",
    "        k=k/2\n",
    "    else:\n",
    "        k-=1"
   ]
  },
  {
   "cell_type": "code",
   "execution_count": 290,
   "id": "c00e4de8",
   "metadata": {},
   "outputs": [
    {
     "name": "stdout",
     "output_type": "stream",
     "text": [
      "enter5\n",
      "55\n"
     ]
    }
   ],
   "source": [
    "n = int(input(\"enter\"))\n",
    "print(sum([i**2 for i in range(1,n+1)]))"
   ]
  },
  {
   "cell_type": "code",
   "execution_count": 298,
   "id": "224c437d",
   "metadata": {
    "collapsed": true
   },
   "outputs": [
    {
     "data": {
      "text/plain": [
       "[0,\n",
       " 1,\n",
       " 2,\n",
       " 3,\n",
       " 5,\n",
       " 7,\n",
       " 11,\n",
       " 13,\n",
       " 17,\n",
       " 19,\n",
       " 23,\n",
       " 29,\n",
       " 31,\n",
       " 37,\n",
       " 41,\n",
       " 43,\n",
       " 47,\n",
       " 53,\n",
       " 59,\n",
       " 61,\n",
       " 67,\n",
       " 71,\n",
       " 73,\n",
       " 79,\n",
       " 83,\n",
       " 89,\n",
       " 97]"
      ]
     },
     "execution_count": 298,
     "metadata": {},
     "output_type": "execute_result"
    }
   ],
   "source": [
    "list(filter(isPrime,range(100)))"
   ]
  },
  {
   "cell_type": "code",
   "execution_count": 300,
   "id": "402475b5",
   "metadata": {},
   "outputs": [
    {
     "data": {
      "text/plain": [
       "'A'"
      ]
     },
     "execution_count": 300,
     "metadata": {},
     "output_type": "execute_result"
    }
   ],
   "source": [
    "ord('A')\n",
    "chr(65)"
   ]
  },
  {
   "cell_type": "code",
   "execution_count": null,
   "id": "a3e6ea2d",
   "metadata": {},
   "outputs": [],
   "source": []
  },
  {
   "cell_type": "code",
   "execution_count": null,
   "id": "1fcef9e6",
   "metadata": {},
   "outputs": [],
   "source": []
  },
  {
   "cell_type": "code",
   "execution_count": null,
   "id": "c259a47c",
   "metadata": {},
   "outputs": [],
   "source": []
  },
  {
   "cell_type": "code",
   "execution_count": null,
   "id": "e0ad4a4f",
   "metadata": {},
   "outputs": [],
   "source": []
  },
  {
   "cell_type": "code",
   "execution_count": null,
   "id": "41e884c0",
   "metadata": {},
   "outputs": [],
   "source": []
  },
  {
   "cell_type": "code",
   "execution_count": null,
   "id": "7165811f",
   "metadata": {},
   "outputs": [],
   "source": []
  },
  {
   "cell_type": "code",
   "execution_count": null,
   "id": "d0cd5283",
   "metadata": {},
   "outputs": [],
   "source": []
  },
  {
   "cell_type": "code",
   "execution_count": 310,
   "id": "d53e085d",
   "metadata": {},
   "outputs": [
    {
     "name": "stdout",
     "output_type": "stream",
     "text": [
      "forgeeksskeegfor\n",
      "rofgeeksskeegrof\n"
     ]
    }
   ],
   "source": [
    "s = \"forgeeksskeegfor\"\n",
    "# sorted([i for i in s.split() if i==i[::-1]]\n",
    "print(s)\n",
    "rs=s[::-1]\n",
    "print(rs)"
   ]
  },
  {
   "cell_type": "code",
   "execution_count": 330,
   "id": "182cfe33",
   "metadata": {},
   "outputs": [
    {
     "name": "stdout",
     "output_type": "stream",
     "text": [
      "all pelimdrom --> ['geeksskeeg', 'eeksskee', 'eksske', 'kssk', 'ee'] \n",
      " longest --> geeksskeeg\n"
     ]
    }
   ],
   "source": [
    "s = \"forgeeksskeegfor\"\n",
    "n,b,a = len(s) , n, 0\n",
    "l = []\n",
    "while b >=2: \n",
    "    a = a+1  \n",
    "    for i in range(a):\n",
    "        if s[i:b+i]==s[n-a+i:-n-1+i:-1]: # without using [::-1] approach\n",
    "            l.append(s[i:b+i])          \n",
    "            break                     \n",
    "        else:\n",
    "            pass\n",
    "    b-=1\n",
    "print(\"all pelimdrom -->\",l,\"\\n\",\"longest -->\",l[0])"
   ]
  },
  {
   "cell_type": "code",
   "execution_count": 331,
   "id": "152b7f34",
   "metadata": {},
   "outputs": [
    {
     "name": "stdout",
     "output_type": "stream",
     "text": [
      "all pelimdrom --> ['geeksskeeg', 'eeksskee', 'eksske', 'kssk', 'ee'] \n",
      " longest --> geeksskeeg\n"
     ]
    }
   ],
   "source": [
    "s = \"forgeeksskeegfor\"\n",
    "n,b,a = len(s) , n, 0\n",
    "l = []\n",
    "while b >=2: \n",
    "    a = a+1  \n",
    "    for i in range(a):\n",
    "        if s[i:b+i]==s[i:b+i][::-1]: # Smarter way.\n",
    "            l.append(s[i:b+i])          \n",
    "            break                     \n",
    "        else:\n",
    "            pass\n",
    "    b-=1\n",
    "print(\"all pelimdrom -->\",l,\"\\n\",\"longest -->\",l[0])"
   ]
  },
  {
   "cell_type": "code",
   "execution_count": 1,
   "id": "924ade29",
   "metadata": {},
   "outputs": [],
   "source": [
    "# What is meant by Constructoe Chaning and method chaning."
   ]
  },
  {
   "cell_type": "code",
   "execution_count": null,
   "id": "505f9cb7",
   "metadata": {},
   "outputs": [],
   "source": [
    "# Encapsulation "
   ]
  },
  {
   "cell_type": "code",
   "execution_count": null,
   "id": "60bb7177",
   "metadata": {},
   "outputs": [],
   "source": [
    "# public means anyone can access it. \n",
    "# protected (_ single) mean only people from same family can access it ie. all child class can access it.\n",
    "# private (__double) means even family cannt access it i.e child class can also not access it. \n",
    "\n",
    "\n",
    "# But in python we don't have Access Modifiers. We have Notation which help us to behave like Access Modeifier. "
   ]
  },
  {
   "cell_type": "code",
   "execution_count": 4,
   "id": "f6407840",
   "metadata": {},
   "outputs": [
    {
     "name": "stdout",
     "output_type": "stream",
     "text": [
      "tushr t@\n",
      "puru p@\n",
      "{'name': 'puru', 'emial': 'p@', 'userlist': ['tushr', 'puru']}\n"
     ]
    }
   ],
   "source": [
    "\n",
    " def u(name,email,userlist =[]):\n",
    "        print(name, email)\n",
    "        userlist.append(name)\n",
    "        return {\"name\":name, \"emial\": email, \"userlist\":userlist}\n",
    "    \n",
    "u1 = u(\"tushr\", \"t@\")\n",
    "u2 = u(\"puru\",\"p@\")\n",
    "print(u2)  # ul is mutable object. And in functions refereces are saved. "
   ]
  },
  {
   "cell_type": "code",
   "execution_count": null,
   "id": "927bab12",
   "metadata": {},
   "outputs": [],
   "source": [
    "# IQ : # Type hinting. \n",
    "def func(a:int,b:int): -> int: # just for the development part. Even if not followed it's fine. It'll work. It's just suggestion.\n",
    "        return a+b\n",
    "print(func(10,20))"
   ]
  },
  {
   "cell_type": "code",
   "execution_count": null,
   "id": "5f8947dd",
   "metadata": {},
   "outputs": [],
   "source": [
    "# Abstration : "
   ]
  },
  {
   "cell_type": "code",
   "execution_count": 28,
   "id": "03e1188b",
   "metadata": {},
   "outputs": [],
   "source": [
    "# Abstaratcion for multilevel inheritance\n",
    "\n",
    "from abc import ABC, abstractmethod\n",
    "\n",
    "class Company(ABC):\n",
    "    \n",
    "    @abstractmethod\n",
    "    def department(self):\n",
    "        print(\"outside\")\n",
    "    \n",
    "class HR(Company):\n",
    "    \n",
    "    def department(self):\n",
    "        print(\"HR\")\n",
    "        \n",
    "class Recruiter(HR):\n",
    "    def department(self):\n",
    "        print(\"Recruiter\")\n",
    "        \n",
    "    \n",
    "    "
   ]
  },
  {
   "cell_type": "code",
   "execution_count": 29,
   "id": "21255a31",
   "metadata": {},
   "outputs": [
    {
     "name": "stdout",
     "output_type": "stream",
     "text": [
      "outside\n"
     ]
    }
   ],
   "source": [
    "a = HR()\n",
    "Company.department(a)"
   ]
  },
  {
   "cell_type": "code",
   "execution_count": null,
   "id": "2eac03ec",
   "metadata": {},
   "outputs": [],
   "source": [
    "# polymorphism --> method overloading and meyhod overriing"
   ]
  },
  {
   "cell_type": "code",
   "execution_count": null,
   "id": "f797245d",
   "metadata": {},
   "outputs": [],
   "source": [
    "# Static Method\n"
   ]
  },
  {
   "cell_type": "code",
   "execution_count": 31,
   "id": "9217e8c3",
   "metadata": {},
   "outputs": [
    {
     "name": "stdout",
     "output_type": "stream",
     "text": [
      "30\n"
     ]
    }
   ],
   "source": [
    "\n",
    "\n",
    "class Currency:\n",
    "    \n",
    "    amount = 20\n",
    "    def __repr__():\n",
    "        return f\"Currency {Currency.amount}\"\n",
    "    \n",
    "    def changeCurrency(rupees):\n",
    "        return Currency.amount+rupees\n",
    "    \n",
    "print(Currency.changeCurrency(10))"
   ]
  },
  {
   "cell_type": "code",
   "execution_count": 34,
   "id": "f8d4cd20",
   "metadata": {},
   "outputs": [
    {
     "name": "stdout",
     "output_type": "stream",
     "text": [
      "Currency 30\n"
     ]
    }
   ],
   "source": [
    "\n",
    "\n",
    "class Currency:\n",
    "    def __init__(self, amount):\n",
    "        self.amount = amount\n",
    "        \n",
    "    def __repr__(self):  # when class without object is clled it get envoke\n",
    "        return f\"Currency {self.amount}\"\n",
    "    \n",
    "    def changeCurrency(rupees):\n",
    "        return Currency.amount+rupees\n",
    "    \n",
    "# print(Currency.changeCurrency(10))\n",
    "\n",
    "\n",
    "print(Currency(30))"
   ]
  },
  {
   "cell_type": "code",
   "execution_count": 36,
   "id": "aa26ab1b",
   "metadata": {},
   "outputs": [
    {
     "name": "stdout",
     "output_type": "stream",
     "text": [
      "Yem classs  symbol:50\n"
     ]
    }
   ],
   "source": [
    "class YenCurrency:\n",
    "    def __init__(self, amount):\n",
    "        self.amount = amount\n",
    "        self.symbol = \"symbol\"\n",
    "        \n",
    "    def __repr__(self):\n",
    "        return f\"Yem classs  {self.symbol}:{self.amount}\"\n",
    "        \n",
    "y1 = YenCurrency(50)\n",
    "print(y1)\n",
    "        "
   ]
  },
  {
   "cell_type": "code",
   "execution_count": null,
   "id": "90ffbe8a",
   "metadata": {},
   "outputs": [],
   "source": [
    "at the rate property, at the rate classmethod"
   ]
  },
  {
   "cell_type": "code",
   "execution_count": 72,
   "id": "3834e5c1",
   "metadata": {},
   "outputs": [],
   "source": [
    "def func():\n",
    "    count = 0\n",
    "    \n",
    "    while count <10:\n",
    "        print(\"count\", count, \"before\")\n",
    "        \n",
    "        yield count\n",
    "        print(\"count\", count,\"after\")\n",
    "        count+=1"
   ]
  },
  {
   "cell_type": "code",
   "execution_count": 80,
   "id": "082b5cb6",
   "metadata": {},
   "outputs": [],
   "source": [
    "g = func()"
   ]
  },
  {
   "cell_type": "code",
   "execution_count": 82,
   "id": "1a48c0dc",
   "metadata": {},
   "outputs": [
    {
     "name": "stdout",
     "output_type": "stream",
     "text": [
      "count 0 after\n",
      "count 1 before\n",
      "1\n"
     ]
    }
   ],
   "source": [
    "print(next(g))"
   ]
  },
  {
   "cell_type": "code",
   "execution_count": null,
   "id": "3ff28a83",
   "metadata": {},
   "outputs": [],
   "source": [
    "# all generators are iterators but not all iterators are not genetors. \n",
    "# string is not a iterator, it's iterable. But we can convert it into iiterator using iter(str)\n",
    "# next only work on iterators. \n"
   ]
  },
  {
   "cell_type": "code",
   "execution_count": null,
   "id": "5db683a0",
   "metadata": {},
   "outputs": [],
   "source": [
    "# create a class unstance -- zero . next dunder method to generate the value upto the data 10. \n",
    "# can a generator have retrun function?\n",
    "# stop iteration errro: 2 ways --> return..., , exhauted all iteration\n",
    "\n",
    "# iterator --> next() & iter()\n",
    "# itrable --> next() --> execution of iterator --> \n",
    "\n",
    "\n",
    "\n",
    "# If there is yield present, it will alwasy be generator. depite return being presnt in finction . "
   ]
  },
  {
   "cell_type": "code",
   "execution_count": 195,
   "id": "59b0c699",
   "metadata": {},
   "outputs": [],
   "source": [
    "class gen:\n",
    "    def __init__(self, num):\n",
    "        self.num = num\n",
    "    \n",
    "    def  __next__(self):\n",
    "            if self.num == 10:\n",
    "                return \"Stop Iteration\"\n",
    "            else:\n",
    "                self.num+=1\n",
    "                return self.num\n",
    "                \n",
    "    \n",
    "    "
   ]
  },
  {
   "cell_type": "code",
   "execution_count": 196,
   "id": "73c1eac6",
   "metadata": {},
   "outputs": [],
   "source": [
    "a = gen(3)"
   ]
  },
  {
   "cell_type": "code",
   "execution_count": 197,
   "id": "8f956e99",
   "metadata": {},
   "outputs": [
    {
     "name": "stdout",
     "output_type": "stream",
     "text": [
      "4\n"
     ]
    }
   ],
   "source": [
    "print(next(a))"
   ]
  },
  {
   "cell_type": "code",
   "execution_count": 198,
   "id": "36e2ea14",
   "metadata": {},
   "outputs": [],
   "source": [
    "class gen:\n",
    "    def __init__(self, num):\n",
    "        self.num = num\n",
    "    \n",
    "    def  __next__(self):\n",
    "            if self.num == 10:\n",
    "                raise StopIterationError\n",
    "            else:\n",
    "                self.num+=1\n",
    "                return self.num\n",
    "                \n",
    "    \n",
    "    "
   ]
  },
  {
   "cell_type": "code",
   "execution_count": 199,
   "id": "7f9b540c",
   "metadata": {},
   "outputs": [],
   "source": [
    "b = gen(3)"
   ]
  },
  {
   "cell_type": "code",
   "execution_count": 200,
   "id": "a9721c39",
   "metadata": {},
   "outputs": [
    {
     "name": "stdout",
     "output_type": "stream",
     "text": [
      "4\n"
     ]
    }
   ],
   "source": [
    "print(next(b))"
   ]
  },
  {
   "cell_type": "code",
   "execution_count": 201,
   "id": "3a6cd5ae",
   "metadata": {},
   "outputs": [],
   "source": [
    "class gen:\n",
    "    def __init__(self, num):\n",
    "        self.num = num\n",
    "    \n",
    "    def  __next__(self):\n",
    "            if self.num == 10:\n",
    "                raise StopIterationError\n",
    "            else:\n",
    "                self.num+=1\n",
    "                print(self.num)\n",
    "                \n",
    "    \n",
    "    "
   ]
  },
  {
   "cell_type": "code",
   "execution_count": 202,
   "id": "5f5aa00c",
   "metadata": {},
   "outputs": [],
   "source": [
    "c = gen(3)"
   ]
  },
  {
   "cell_type": "code",
   "execution_count": 203,
   "id": "7496240e",
   "metadata": {},
   "outputs": [
    {
     "name": "stdout",
     "output_type": "stream",
     "text": [
      "4\n"
     ]
    }
   ],
   "source": [
    "next(c)"
   ]
  },
  {
   "cell_type": "code",
   "execution_count": 206,
   "id": "e2394e75",
   "metadata": {},
   "outputs": [
    {
     "data": {
      "text/plain": [
       "True"
      ]
     },
     "execution_count": 206,
     "metadata": {},
     "output_type": "execute_result"
    }
   ],
   "source": [
    "a = 1000\n",
    "b = 1000\n",
    "a == b\n",
    "a is b # to check object references. "
   ]
  },
  {
   "cell_type": "code",
   "execution_count": 212,
   "id": "1d52e2b7",
   "metadata": {},
   "outputs": [
    {
     "name": "stdout",
     "output_type": "stream",
     "text": [
      "True\n"
     ]
    }
   ],
   "source": [
    "data = \"tushar\"\n",
    "\n",
    "listData = dir(data)\n",
    "listData1 = dir(iter(data))\n",
    "print( \"__iter__\" in listData1)"
   ]
  },
  {
   "cell_type": "code",
   "execution_count": 211,
   "id": "d7ff48eb",
   "metadata": {},
   "outputs": [
    {
     "name": "stdout",
     "output_type": "stream",
     "text": [
      "['__add__', '__class__', '__contains__', '__delattr__', '__dir__', '__doc__', '__eq__', '__format__', '__ge__', '__getattribute__', '__getitem__', '__getnewargs__', '__gt__', '__hash__', '__init__', '__init_subclass__', '__iter__', '__le__', '__len__', '__lt__', '__mod__', '__mul__', '__ne__', '__new__', '__reduce__', '__reduce_ex__', '__repr__', '__rmod__', '__rmul__', '__setattr__', '__sizeof__', '__str__', '__subclasshook__', 'capitalize', 'casefold', 'center', 'count', 'encode', 'endswith', 'expandtabs', 'find', 'format', 'format_map', 'index', 'isalnum', 'isalpha', 'isascii', 'isdecimal', 'isdigit', 'isidentifier', 'islower', 'isnumeric', 'isprintable', 'isspace', 'istitle', 'isupper', 'join', 'ljust', 'lower', 'lstrip', 'maketrans', 'partition', 'removeprefix', 'removesuffix', 'replace', 'rfind', 'rindex', 'rjust', 'rpartition', 'rsplit', 'rstrip', 'split', 'splitlines', 'startswith', 'strip', 'swapcase', 'title', 'translate', 'upper', 'zfill']\n"
     ]
    }
   ],
   "source": [
    "data = \"tushar\"\n",
    "\n",
    "listData = dir(data)\n",
    "print(listData)"
   ]
  },
  {
   "cell_type": "code",
   "execution_count": 213,
   "id": "da6ae144",
   "metadata": {},
   "outputs": [
    {
     "name": "stdout",
     "output_type": "stream",
     "text": [
      "Hello, this is before function execution\n",
      "This is inside the function !!\n",
      "This is after function execution\n"
     ]
    }
   ],
   "source": [
    "# defining a decorator\n",
    "def hello_decorator(func):\n",
    "\n",
    "\t# inner1 is a Wrapper function in\n",
    "\t# which the argument is called\n",
    "\t\n",
    "\t# inner function can access the outer local\n",
    "\t# functions like in this case \"func\"\n",
    "\tdef inner1():\n",
    "\t\tprint(\"Hello, this is before function execution\")\n",
    "\n",
    "        \n",
    "\t\tfunc()\n",
    "\n",
    "\t\tprint(\"This is after function execution\")\n",
    "\t\t\n",
    "\treturn inner1\n",
    "\n",
    "\n",
    "# defining a function, to be called inside wrapper\n",
    "def function_to_be_used():\n",
    "\tprint(\"This is inside the function !!\")\n",
    "\n",
    "\n",
    "# passing 'function_to_be_used' inside the\n",
    "# decorator to control its behaviour\n",
    "function_to_be_used = hello_decorator(function_to_be_used)\n",
    "\n",
    "\n",
    "# calling the function\n",
    "function_to_be_used()\n"
   ]
  },
  {
   "cell_type": "code",
   "execution_count": 220,
   "id": "877aafb1",
   "metadata": {},
   "outputs": [
    {
     "name": "stdout",
     "output_type": "stream",
     "text": [
      "Hello, this is before function execution\n",
      "Hello, this is before function execution\n",
      "This is inside the function !! 2\n",
      "This is after function execution\n",
      "This is after function execution\n"
     ]
    }
   ],
   "source": [
    "# defining a decorator\n",
    "def hello_decorator(func):\n",
    "\n",
    "\t# inner1 is a Wrapper function in\n",
    "\t# which the argument is called\n",
    "\t\n",
    "\t# inner function can access the outer local\n",
    "\t# functions like in this case \"func\"\n",
    "\tdef inner1(*args, **kwargs):\n",
    "\t\tprint(\"Hello, this is before function execution\")\n",
    "\n",
    "        \n",
    "\t\tfunc(*args, **kwargs)\n",
    "\n",
    "\t\tprint(\"This is after function execution\")\n",
    "\t\t\n",
    "\treturn inner1\n",
    "\n",
    "\n",
    "# defining a function, to be called inside wrapper\n",
    "@hello_decorator\n",
    "def function_to_be_used(num1):\n",
    "\tprint(\"This is inside the function !!\", num1)\n",
    "\n",
    "\n",
    "# passing 'function_to_be_used' inside the\n",
    "# decorator to control its behaviour\n",
    "function_to_be_used = hello_decorator(function_to_be_used)\n",
    "\n",
    "\n",
    "# calling the function\n",
    "function_to_be_used(2)\n"
   ]
  },
  {
   "cell_type": "code",
   "execution_count": 218,
   "id": "594bd104",
   "metadata": {},
   "outputs": [],
   "source": [
    "# generators, iterable, iteartor, decorator are very important for interview. "
   ]
  },
  {
   "cell_type": "code",
   "execution_count": 221,
   "id": "07568b14",
   "metadata": {},
   "outputs": [],
   "source": [
    "#constructor chaining and method chaining......"
   ]
  },
  {
   "cell_type": "code",
   "execution_count": 223,
   "id": "1732d948",
   "metadata": {},
   "outputs": [],
   "source": [
    "# Question  -->\n",
    "\n",
    "# create a list of dictionary containing two keys. { user: __} in case check if the user is Turshar then call\n",
    "# decorated function which will print a string as password. Else call another function user is denied. "
   ]
  },
  {
   "cell_type": "code",
   "execution_count": null,
   "id": "c450b5c1",
   "metadata": {},
   "outputs": [],
   "source": []
  },
  {
   "cell_type": "code",
   "execution_count": 264,
   "id": "63f562cd",
   "metadata": {},
   "outputs": [],
   "source": [
    "d1 = {\"user\": \"Tushar\"}  \n",
    "d2 = {\"user\": \"Puur\"}\n",
    "\n",
    "def decor(func):\n",
    "        def wrapper(**kwargs):\n",
    "            if kwargs[\"user\"] == \"Tushar\":\n",
    "                print(\"password is 1234\")\n",
    "                func()\n",
    "            else:\n",
    "                print(\"dafda\")\n",
    "        return wrapper\n",
    "        \n",
    "@decor\n",
    "def check_user(**kwargs):\n",
    "    print(\"original run\")\n",
    "    pass\n",
    "    "
   ]
  },
  {
   "cell_type": "code",
   "execution_count": 265,
   "id": "e005088b",
   "metadata": {},
   "outputs": [
    {
     "name": "stdout",
     "output_type": "stream",
     "text": [
      "password is 1234\n",
      "original run\n"
     ]
    }
   ],
   "source": [
    "check_user(**d1)"
   ]
  },
  {
   "cell_type": "code",
   "execution_count": 266,
   "id": "8dc12211",
   "metadata": {},
   "outputs": [],
   "source": [
    "d1 = {\"user\": \"Tushar\"}   # leave this cell also\n",
    "d2 = {\"user\": \"Puur\"}\n",
    "def topper(func):\n",
    "    def decor(func, a):\n",
    "        if a == 1: \n",
    "            if d1[\"user\"] == \"Tushar\":\n",
    "                def wrapper():\n",
    "                    print(\"password is 1234\")\n",
    "                    func()\n",
    "                return wrapper\n",
    "            else:\n",
    "                def wrapper():\n",
    "                    print(\"access denied\")\n",
    "\n",
    "                return wrapper\n",
    "        else:\n",
    "            print(\"dfjnaone\")\n",
    "        return decor\n",
    "        \n",
    "@topper\n",
    "def check_user():\n",
    "    print(\"original run\")\n",
    "    pass\n",
    "    "
   ]
  },
  {
   "cell_type": "code",
   "execution_count": 274,
   "id": "0e1fa024",
   "metadata": {},
   "outputs": [
    {
     "ename": "TypeError",
     "evalue": "'NoneType' object is not callable",
     "output_type": "error",
     "traceback": [
      "\u001b[1;31m---------------------------------------------------------------------------\u001b[0m",
      "\u001b[1;31mTypeError\u001b[0m                                 Traceback (most recent call last)",
      "\u001b[1;32m~\\AppData\\Local\\Temp\\ipykernel_35916\\3577137829.py\u001b[0m in \u001b[0;36m<module>\u001b[1;34m\u001b[0m\n\u001b[1;32m----> 1\u001b[1;33m \u001b[0mb\u001b[0m \u001b[1;33m=\u001b[0m \u001b[0mcheck_user\u001b[0m\u001b[1;33m(\u001b[0m\u001b[0mcheck_user\u001b[0m\u001b[1;33m(\u001b[0m\u001b[1;33m)\u001b[0m\u001b[1;33m,\u001b[0m\u001b[1;36m2\u001b[0m\u001b[1;33m)\u001b[0m\u001b[1;33m\u001b[0m\u001b[1;33m\u001b[0m\u001b[0m\n\u001b[0m",
      "\u001b[1;31mTypeError\u001b[0m: 'NoneType' object is not callable"
     ]
    }
   ],
   "source": [
    "b = check_user(check_user(),2)\n"
   ]
  },
  {
   "cell_type": "code",
   "execution_count": null,
   "id": "67565af2",
   "metadata": {},
   "outputs": [],
   "source": [
    "# Collection are containers that we use to store the object. Like list, tuple."
   ]
  },
  {
   "cell_type": "code",
   "execution_count": 275,
   "id": "f5b8b63c",
   "metadata": {},
   "outputs": [
    {
     "name": "stdout",
     "output_type": "stream",
     "text": [
      "Counter({'B': 5, 'A': 3, 'C': 2})\n",
      "Counter({'B': 5, 'A': 3, 'C': 2})\n",
      "Counter({'B': 5, 'A': 3, 'C': 2})\n"
     ]
    }
   ],
   "source": [
    "# A Python program to show different \n",
    "# ways to create Counter \n",
    "from collections import Counter \n",
    "    \n",
    "# With sequence of items  \n",
    "print(Counter(['B','B','A','B','C','A','B',\n",
    "               'B','A','C']))\n",
    "    \n",
    "# with dictionary \n",
    "print(Counter({'A':3, 'B':5, 'C':2}))\n",
    "    \n",
    "# with keyword arguments \n",
    "print(Counter(A=3, B=5, C=2))"
   ]
  },
  {
   "cell_type": "code",
   "execution_count": 276,
   "id": "951d6736",
   "metadata": {},
   "outputs": [
    {
     "name": "stdout",
     "output_type": "stream",
     "text": [
      "This is a Dict:\n",
      "\n",
      "a 1\n",
      "b 2\n",
      "c 3\n",
      "d 4\n",
      "\n",
      "This is an Ordered Dict:\n",
      "\n",
      "a 1\n",
      "b 2\n",
      "c 3\n",
      "d 4\n"
     ]
    }
   ],
   "source": [
    "# A Python program to demonstrate working\n",
    "# of OrderedDict \n",
    "  \n",
    "from collections import OrderedDict \n",
    "    \n",
    "print(\"This is a Dict:\\n\") \n",
    "d = {} \n",
    "d['a'] = 1\n",
    "d['b'] = 2\n",
    "d['c'] = 3\n",
    "d['d'] = 4\n",
    "    \n",
    "for key, value in d.items(): \n",
    "    print(key, value) \n",
    "    \n",
    "print(\"\\nThis is an Ordered Dict:\\n\") \n",
    "od = OrderedDict() \n",
    "od['a'] = 1\n",
    "od['b'] = 2\n",
    "od['c'] = 3\n",
    "od['d'] = 4\n",
    "    \n",
    "for key, value in od.items(): \n",
    "    print(key, value)"
   ]
  },
  {
   "cell_type": "code",
   "execution_count": 288,
   "id": "acdbfb8c",
   "metadata": {},
   "outputs": [
    {
     "ename": "IndentationError",
     "evalue": "unexpected indent (3946854242.py, line 5)",
     "output_type": "error",
     "traceback": [
      "\u001b[1;36m  File \u001b[1;32m\"C:\\Users\\Catnip\\AppData\\Local\\Temp\\ipykernel_35916\\3946854242.py\"\u001b[1;36m, line \u001b[1;32m5\u001b[0m\n\u001b[1;33m    {d[i] = j for i,j in d.items() if i not in d  }\u001b[0m\n\u001b[1;37m    ^\u001b[0m\n\u001b[1;31mIndentationError\u001b[0m\u001b[1;31m:\u001b[0m unexpected indent\n"
     ]
    }
   ],
   "source": [
    "d = {}\n",
    "l = [('T',20),('Am',18),('T',40),('Aj',24)]\n",
    "# {d[i]: j for i,j in l if i not in d  }\n",
    "d = dict(l)\n",
    "#  {d[i] = j for i,j in d.items() if i not in d  }\n",
    "\n",
    "for i,j in l:\n",
    "    if d[i] :\n",
    "        pass"
   ]
  },
  {
   "cell_type": "code",
   "execution_count": 279,
   "id": "7180d9f8",
   "metadata": {},
   "outputs": [
    {
     "data": {
      "text/plain": [
       "True"
      ]
     },
     "execution_count": 279,
     "metadata": {},
     "output_type": "execute_result"
    }
   ],
   "source": [
    "'T' in {'T':1}"
   ]
  },
  {
   "cell_type": "code",
   "execution_count": 289,
   "id": "b72db5b8",
   "metadata": {},
   "outputs": [],
   "source": [
    "# double ended que "
   ]
  },
  {
   "cell_type": "code",
   "execution_count": 290,
   "id": "e448bee2",
   "metadata": {},
   "outputs": [],
   "source": [
    "#multithreading:\n",
    "\n"
   ]
  },
  {
   "cell_type": "code",
   "execution_count": 291,
   "id": "37b09d9c",
   "metadata": {},
   "outputs": [],
   "source": [
    "# Contructor Overloading doesn't exist. Only Constructor Overriding Exist. \n"
   ]
  },
  {
   "cell_type": "code",
   "execution_count": 292,
   "id": "052c6810",
   "metadata": {},
   "outputs": [],
   "source": [
    "# deep copy(another object reference is created) vs shallow copy(same object reference to two variable )"
   ]
  },
  {
   "cell_type": "code",
   "execution_count": 293,
   "id": "d8f7833e",
   "metadata": {},
   "outputs": [],
   "source": [
    "# Assignment - to create a mysql connection with python and perform ddl and dml tasks. "
   ]
  },
  {
   "cell_type": "code",
   "execution_count": 79,
   "id": "9002eb2f",
   "metadata": {},
   "outputs": [
    {
     "name": "stdout",
     "output_type": "stream",
     "text": [
      "uui9\\dd\n",
      "ui9\\d\n",
      "ui9\\\n",
      "i9\\d\n",
      "ui9\n",
      "i9\\\n",
      "9\\d\n",
      "ui\n",
      "i9\n",
      "9\\\n",
      "\\d\n",
      "u\n",
      "u\n",
      "i\n",
      "9\n",
      "\\\n",
      "d\n",
      "d\n",
      "[5, 4, 4, 3, 3, 3, 2, 2, 2, 2, 1, 1, 1, 1, 1, 1, 1]\n"
     ]
    }
   ],
   "source": [
    "# Check non-repeated substring of maximum len in a String. \n",
    "# Exam Question from Test. Exam happend on 22-02-2023. Pic of question is also on mobile from same date. \n",
    "# Lokesh also had some solution. I had cleicked the picturs. \n",
    "\n",
    "S = input()\n",
    "def check(str):\n",
    "    if len(str)==len(set(str)):\n",
    "        return True\n",
    "    else:\n",
    "        return False\n",
    "l = []\n",
    "for i in range(len(S),0,-1): \n",
    "#     print(i)\n",
    "    for j in range(len(S)+1-i):\n",
    "    \n",
    "#         print(j,i)\n",
    "#         print(S[j:i+j])\n",
    "        if check(S[j:i+j]):\n",
    "            print(S[j:i+j])                #             print(\"enter\")\n",
    "            l.append(len(S[j:i+j]))\n",
    "        else:\n",
    "            pass\n",
    "                                        #         print(j,i+j)\n",
    "print(l)\n",
    "print(l[0])\n"
   ]
  },
  {
   "cell_type": "code",
   "execution_count": 56,
   "id": "0a671431",
   "metadata": {},
   "outputs": [
    {
     "data": {
      "text/plain": [
       "'abcde'"
      ]
     },
     "execution_count": 56,
     "metadata": {},
     "output_type": "execute_result"
    }
   ],
   "source": [
    "s = 'abcde'\n",
    "s[:5]"
   ]
  },
  {
   "cell_type": "code",
   "execution_count": 60,
   "id": "e70a27c3",
   "metadata": {},
   "outputs": [
    {
     "data": {
      "text/plain": [
       "False"
      ]
     },
     "execution_count": 60,
     "metadata": {},
     "output_type": "execute_result"
    }
   ],
   "source": [
    "check('ui9\\dd')"
   ]
  },
  {
   "cell_type": "code",
   "execution_count": 19,
   "id": "3e4a96ab",
   "metadata": {},
   "outputs": [
    {
     "name": "stdout",
     "output_type": "stream",
     "text": [
      "enter a string   sdfadfabcdefghijklmnop\n",
      "16\n",
      "abcdefghijklmnop\n"
     ]
    }
   ],
   "source": [
    "# Lokesh's Solution. \n",
    "\n",
    "\n",
    "s = input(\"enter a string   \")\n",
    "l = []\n",
    "st = \"\"\n",
    "m = -1\n",
    "for i in range(len(s)):\n",
    "#     print(\"iteration number - \",i+1)\n",
    "    l.clear()\n",
    "    for j in range(i, len(s)):\n",
    "#         print(i,' ',end =' ')\n",
    "        if s[j] in l:\n",
    "            break\n",
    "        else:\n",
    "            l.append(s[j]) \n",
    "#         print(l, end ='')\n",
    "    if len(l)>m:\n",
    "        m = len(l)\n",
    "        st = ''.join(l)\n",
    "#     print('\\n')\n",
    "print(ma)\n",
    "print(st)"
   ]
  },
  {
   "cell_type": "code",
   "execution_count": 17,
   "id": "f5fb1ac1",
   "metadata": {},
   "outputs": [
    {
     "name": "stdout",
     "output_type": "stream",
     "text": [
      "ENter the string abcdefghijjadfadfad\n",
      "10\n",
      "abcdefghij\n"
     ]
    }
   ],
   "source": [
    "s = input(\"ENter the string \")\n",
    "l = []\n",
    "a = -1\n",
    "for i in range(len(s)):\n",
    "    l.clear()\n",
    "    for j in range(i,len(s)):\n",
    "        if s[j] in l:\n",
    "            break\n",
    "        else:\n",
    "            l.append(s[j])\n",
    "            \n",
    "    if len(l) > a:\n",
    "        a = len(l)\n",
    "        s = ''.join(l)\n",
    "print(a)\n",
    "print(s)"
   ]
  },
  {
   "cell_type": "code",
   "execution_count": null,
   "id": "bd387c3f",
   "metadata": {},
   "outputs": [],
   "source": []
  },
  {
   "cell_type": "code",
   "execution_count": null,
   "id": "f713578c",
   "metadata": {},
   "outputs": [],
   "source": []
  },
  {
   "cell_type": "code",
   "execution_count": null,
   "id": "692fcc7e",
   "metadata": {},
   "outputs": [],
   "source": [
    "sjfjsdfjsdvscsvuhvdjf ovn  "
   ]
  }
 ],
 "metadata": {
  "kernelspec": {
   "display_name": "Python 3 (ipykernel)",
   "language": "python",
   "name": "python3"
  },
  "language_info": {
   "codemirror_mode": {
    "name": "ipython",
    "version": 3
   },
   "file_extension": ".py",
   "mimetype": "text/x-python",
   "name": "python",
   "nbconvert_exporter": "python",
   "pygments_lexer": "ipython3",
   "version": "3.9.13"
  }
 },
 "nbformat": 4,
 "nbformat_minor": 5
}
