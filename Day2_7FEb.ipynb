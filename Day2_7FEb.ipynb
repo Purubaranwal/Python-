{
 "cells": [
  {
   "cell_type": "code",
   "execution_count": null,
   "metadata": {
    "colab": {
     "base_uri": "https://localhost:8080/"
    },
    "executionInfo": {
     "elapsed": 7,
     "status": "ok",
     "timestamp": 1675749457110,
     "user": {
      "displayName": "Tushar Goyal",
      "userId": "13566952083918452995"
     },
     "user_tz": -330
    },
    "id": "4IZAZxxUbGhd",
    "outputId": "e72df69c-b325-4a37-a0d0-cb63a19f43c3"
   },
   "outputs": [
    {
     "name": "stdout",
     "output_type": "stream",
     "text": [
      "0\n",
      "2\n",
      "4\n"
     ]
    }
   ],
   "source": [
    "#  loops statement that we use to repeatitive task\n",
    "#  use iterator ( next method)\n",
    "for var in range(0,5,2): --> Once loop starts, this [0,2,4] value can not be changed.   \n",
    "  print(var)\n",
    "  "
   ]
  },
  {
   "cell_type": "code",
   "execution_count": null,
   "metadata": {
    "colab": {
     "base_uri": "https://localhost:8080/"
    },
    "executionInfo": {
     "elapsed": 6,
     "status": "ok",
     "timestamp": 1675749498331,
     "user": {
      "displayName": "Tushar Goyal",
      "userId": "13566952083918452995"
     },
     "user_tz": -330
    },
    "id": "U3dD5A2WcOWn",
    "outputId": "4cce90f7-6a15-469c-976e-4c9bb9ecb223"
   },
   "outputs": [
    {
     "name": "stdout",
     "output_type": "stream",
     "text": [
      "F\n",
      "U\n",
      "T\n",
      "U\n",
      "R\n",
      "E\n",
      "N\n",
      "S\n",
      "E\n"
     ]
    }
   ],
   "source": [
    "# \n",
    "for char in \"FUTURENSE\":\n",
    "  print(char)"
   ]
  },
  {
   "cell_type": "code",
   "execution_count": null,
   "metadata": {
    "colab": {
     "base_uri": "https://localhost:8080/"
    },
    "executionInfo": {
     "elapsed": 4,
     "status": "ok",
     "timestamp": 1675749579356,
     "user": {
      "displayName": "Tushar Goyal",
      "userId": "13566952083918452995"
     },
     "user_tz": -330
    },
    "id": "NMz_AXHvdTMu",
    "outputId": "f9411c15-391a-4aed-e8ed-3019d32ff00b"
   },
   "outputs": [
    {
     "data": {
      "text/plain": [
       "9"
      ]
     },
     "execution_count": 7,
     "metadata": {},
     "output_type": "execute_result"
    }
   ],
   "source": [
    "data = \"futurense\"\n",
    "len(data)"
   ]
  },
  {
   "cell_type": "code",
   "execution_count": null,
   "metadata": {
    "colab": {
     "base_uri": "https://localhost:8080/"
    },
    "executionInfo": {
     "elapsed": 11,
     "status": "ok",
     "timestamp": 1675749625873,
     "user": {
      "displayName": "Tushar Goyal",
      "userId": "13566952083918452995"
     },
     "user_tz": -330
    },
    "id": "94Fqj4BEdBPt",
    "outputId": "14f9c80d-22cb-4a2f-fc47-5b5ba72e7c80"
   },
   "outputs": [
    {
     "name": "stdout",
     "output_type": "stream",
     "text": [
      "0 f\n",
      "1 u\n",
      "2 t\n",
      "3 u\n",
      "4 r\n",
      "5 e\n",
      "6 n\n",
      "7 s\n",
      "8 e\n"
     ]
    }
   ],
   "source": [
    "data = \"futurense\"\n",
    "#  0 => 9  ( 0 to 8)\n",
    "for index in range(len(data)):\n",
    "  print(index, data[index])"
   ]
  },
  {
   "cell_type": "code",
   "execution_count": null,
   "metadata": {
    "colab": {
     "base_uri": "https://localhost:8080/"
    },
    "executionInfo": {
     "elapsed": 9,
     "status": "ok",
     "timestamp": 1675750027358,
     "user": {
      "displayName": "Tushar Goyal",
      "userId": "13566952083918452995"
     },
     "user_tz": -330
    },
    "id": "FAqBv4pSdcmU",
    "outputId": "63d51892-e241-476c-d9d1-8d5e87d94ce5"
   },
   "outputs": [
    {
     "name": "stdout",
     "output_type": "stream",
     "text": [
      "1 10\n",
      "1 11\n",
      "1 12\n",
      "1 13\n",
      "2 10\n",
      "2 11\n",
      "2 12\n",
      "2 13\n",
      "3 10\n",
      "3 11\n",
      "3 12\n",
      "3 13\n"
     ]
    }
   ],
   "source": [
    "#  task on patterns\n",
    "# outerValue =2\n",
    "for outerValue in range(1,4):\n",
    "  \n",
    "  for innerValue in range(10,14):\n",
    "    print(outerValue, innerValue)\n",
    "\n"
   ]
  },
  {
   "cell_type": "code",
   "execution_count": null,
   "metadata": {
    "id": "g3sQs7keeZZT"
   },
   "outputs": [],
   "source": [
    "# while(condition)\n",
    "# statement"
   ]
  },
  {
   "cell_type": "code",
   "execution_count": null,
   "metadata": {
    "colab": {
     "base_uri": "https://localhost:8080/"
    },
    "executionInfo": {
     "elapsed": 4,
     "status": "ok",
     "timestamp": 1675750801377,
     "user": {
      "displayName": "Tushar Goyal",
      "userId": "13566952083918452995"
     },
     "user_tz": -330
    },
    "id": "mPSIJBpmgbf5",
    "outputId": "df497c46-e34f-4372-cb35-90e8d323e1da"
   },
   "outputs": [
    {
     "name": "stdout",
     "output_type": "stream",
     "text": [
      "[1, 2, 3, 4, 5, 'AB', 100.22] <class 'list'>\n"
     ]
    }
   ],
   "source": [
    "# data types we have in python\n",
    "\n",
    "#  int, string\n",
    "#  list\n",
    "#  list the collection of sequential value , list is a mutuable data type\n",
    "#  they have the index position  ( but memory location are not continuous)\n",
    "\n",
    "#  do we support of array in Python\n",
    "#  array => data structure ( similar kind of value continuous memory location)\n",
    "#  int array  => 2 bytes   1004, 1006, 1008\n",
    "\n",
    "\n",
    "#  list[]\n",
    "\n",
    "\n",
    "myList = [1,2,3,4,5,\"AB\",100.22]\n",
    "print(myList, type(myList))"
   ]
  },
  {
   "cell_type": "code",
   "execution_count": null,
   "metadata": {
    "colab": {
     "base_uri": "https://localhost:8080/"
    },
    "executionInfo": {
     "elapsed": 6,
     "status": "ok",
     "timestamp": 1675751198732,
     "user": {
      "displayName": "Tushar Goyal",
      "userId": "13566952083918452995"
     },
     "user_tz": -330
    },
    "id": "hnctND8Lh5es",
    "outputId": "51021c9a-9470-46a4-991c-03fa29901dfa"
   },
   "outputs": [
    {
     "data": {
      "text/plain": [
       "[100.22, 'AB', 5]"
      ]
     },
     "execution_count": 21,
     "metadata": {},
     "output_type": "execute_result"
    }
   ],
   "source": [
    "#  slicing [start: stop: step=1 ]\n",
    "myList[-1:-4:-1]"
   ]
  },
  {
   "cell_type": "code",
   "execution_count": null,
   "metadata": {
    "id": "ZeInwELIiH9k"
   },
   "outputs": [],
   "source": [
    "myList[0] = 1000 "
   ]
  },
  {
   "cell_type": "code",
   "execution_count": null,
   "metadata": {
    "colab": {
     "base_uri": "https://localhost:8080/"
    },
    "executionInfo": {
     "elapsed": 6,
     "status": "ok",
     "timestamp": 1675751247863,
     "user": {
      "displayName": "Tushar Goyal",
      "userId": "13566952083918452995"
     },
     "user_tz": -330
    },
    "id": "xHXpUexTjrhC",
    "outputId": "e6d7d223-c3c0-4b59-c39a-66c176674c63"
   },
   "outputs": [
    {
     "data": {
      "text/plain": [
       "[1000, 2, 3, 4, 5, 'AB', 100.22]"
      ]
     },
     "execution_count": 23,
     "metadata": {},
     "output_type": "execute_result"
    }
   ],
   "source": [
    "myList"
   ]
  },
  {
   "cell_type": "code",
   "execution_count": null,
   "metadata": {
    "id": "5asEw5T1jsuS"
   },
   "outputs": [],
   "source": [
    "myList[0:3] = [99,199,299]"
   ]
  },
  {
   "cell_type": "code",
   "execution_count": null,
   "metadata": {
    "colab": {
     "base_uri": "https://localhost:8080/"
    },
    "executionInfo": {
     "elapsed": 5,
     "status": "ok",
     "timestamp": 1675751269858,
     "user": {
      "displayName": "Tushar Goyal",
      "userId": "13566952083918452995"
     },
     "user_tz": -330
    },
    "id": "R8MrQyDZjxvS",
    "outputId": "c89722a0-69ad-4869-9d20-730e81c61e7d"
   },
   "outputs": [
    {
     "data": {
      "text/plain": [
       "[99, 199, 299, 4, 5, 'AB', 100.22]"
      ]
     },
     "execution_count": 25,
     "metadata": {},
     "output_type": "execute_result"
    }
   ],
   "source": [
    "myList"
   ]
  },
  {
   "cell_type": "code",
   "execution_count": null,
   "metadata": {
    "id": "eYilU0bhjyD6"
   },
   "outputs": [],
   "source": [
    "myList[0:3] = [100,200,300,400]\n"
   ]
  },
  {
   "cell_type": "code",
   "execution_count": null,
   "metadata": {
    "colab": {
     "base_uri": "https://localhost:8080/"
    },
    "executionInfo": {
     "elapsed": 6,
     "status": "ok",
     "timestamp": 1675751358219,
     "user": {
      "displayName": "Tushar Goyal",
      "userId": "13566952083918452995"
     },
     "user_tz": -330
    },
    "id": "Jgyj-FXAj7Cj",
    "outputId": "110bca10-b822-485c-d2d4-3a8a36d4bd8b"
   },
   "outputs": [
    {
     "data": {
      "text/plain": [
       "[100, 200, 300, 400, 88888, 88888, 4, 5, 'AB', 100.22]"
      ]
     },
     "execution_count": 31,
     "metadata": {},
     "output_type": "execute_result"
    }
   ],
   "source": [
    "myList"
   ]
  },
  {
   "cell_type": "code",
   "execution_count": null,
   "metadata": {
    "colab": {
     "base_uri": "https://localhost:8080/"
    },
    "executionInfo": {
     "elapsed": 7,
     "status": "ok",
     "timestamp": 1675751459099,
     "user": {
      "displayName": "Tushar Goyal",
      "userId": "13566952083918452995"
     },
     "user_tz": -330
    },
    "id": "ENoct2-0j7Ui",
    "outputId": "6796e9dd-a212-4dec-b04f-db2e45da5092"
   },
   "outputs": [
    {
     "name": "stdout",
     "output_type": "stream",
     "text": [
      "Help on list object:\n",
      "\n",
      "class list(object)\n",
      " |  list(iterable=(), /)\n",
      " |  \n",
      " |  Built-in mutable sequence.\n",
      " |  \n",
      " |  If no argument is given, the constructor creates a new empty list.\n",
      " |  The argument must be an iterable if specified.\n",
      " |  \n",
      " |  Methods defined here:\n",
      " |  \n",
      " |  __add__(self, value, /)\n",
      " |      Return self+value.\n",
      " |  \n",
      " |  __contains__(self, key, /)\n",
      " |      Return key in self.\n",
      " |  \n",
      " |  __delitem__(self, key, /)\n",
      " |      Delete self[key].\n",
      " |  \n",
      " |  __eq__(self, value, /)\n",
      " |      Return self==value.\n",
      " |  \n",
      " |  __ge__(self, value, /)\n",
      " |      Return self>=value.\n",
      " |  \n",
      " |  __getattribute__(self, name, /)\n",
      " |      Return getattr(self, name).\n",
      " |  \n",
      " |  __getitem__(...)\n",
      " |      x.__getitem__(y) <==> x[y]\n",
      " |  \n",
      " |  __gt__(self, value, /)\n",
      " |      Return self>value.\n",
      " |  \n",
      " |  __iadd__(self, value, /)\n",
      " |      Implement self+=value.\n",
      " |  \n",
      " |  __imul__(self, value, /)\n",
      " |      Implement self*=value.\n",
      " |  \n",
      " |  __init__(self, /, *args, **kwargs)\n",
      " |      Initialize self.  See help(type(self)) for accurate signature.\n",
      " |  \n",
      " |  __iter__(self, /)\n",
      " |      Implement iter(self).\n",
      " |  \n",
      " |  __le__(self, value, /)\n",
      " |      Return self<=value.\n",
      " |  \n",
      " |  __len__(self, /)\n",
      " |      Return len(self).\n",
      " |  \n",
      " |  __lt__(self, value, /)\n",
      " |      Return self<value.\n",
      " |  \n",
      " |  __mul__(self, value, /)\n",
      " |      Return self*value.\n",
      " |  \n",
      " |  __ne__(self, value, /)\n",
      " |      Return self!=value.\n",
      " |  \n",
      " |  __repr__(self, /)\n",
      " |      Return repr(self).\n",
      " |  \n",
      " |  __reversed__(self, /)\n",
      " |      Return a reverse iterator over the list.\n",
      " |  \n",
      " |  __rmul__(self, value, /)\n",
      " |      Return value*self.\n",
      " |  \n",
      " |  __setitem__(self, key, value, /)\n",
      " |      Set self[key] to value.\n",
      " |  \n",
      " |  __sizeof__(self, /)\n",
      " |      Return the size of the list in memory, in bytes.\n",
      " |  \n",
      " |  append(self, object, /)\n",
      " |      Append object to the end of the list.\n",
      " |  \n",
      " |  clear(self, /)\n",
      " |      Remove all items from list.\n",
      " |  \n",
      " |  copy(self, /)\n",
      " |      Return a shallow copy of the list.\n",
      " |  \n",
      " |  count(self, value, /)\n",
      " |      Return number of occurrences of value.\n",
      " |  \n",
      " |  extend(self, iterable, /)\n",
      " |      Extend list by appending elements from the iterable.\n",
      " |  \n",
      " |  index(self, value, start=0, stop=9223372036854775807, /)\n",
      " |      Return first index of value.\n",
      " |      \n",
      " |      Raises ValueError if the value is not present.\n",
      " |  \n",
      " |  insert(self, index, object, /)\n",
      " |      Insert object before index.\n",
      " |  \n",
      " |  pop(self, index=-1, /)\n",
      " |      Remove and return item at index (default last).\n",
      " |      \n",
      " |      Raises IndexError if list is empty or index is out of range.\n",
      " |  \n",
      " |  remove(self, value, /)\n",
      " |      Remove first occurrence of value.\n",
      " |      \n",
      " |      Raises ValueError if the value is not present.\n",
      " |  \n",
      " |  reverse(self, /)\n",
      " |      Reverse *IN PLACE*.\n",
      " |  \n",
      " |  sort(self, /, *, key=None, reverse=False)\n",
      " |      Sort the list in ascending order and return None.\n",
      " |      \n",
      " |      The sort is in-place (i.e. the list itself is modified) and stable (i.e. the\n",
      " |      order of two equal elements is maintained).\n",
      " |      \n",
      " |      If a key function is given, apply it once to each list item and sort them,\n",
      " |      ascending or descending, according to their function values.\n",
      " |      \n",
      " |      The reverse flag can be set to sort in descending order.\n",
      " |  \n",
      " |  ----------------------------------------------------------------------\n",
      " |  Static methods defined here:\n",
      " |  \n",
      " |  __new__(*args, **kwargs) from builtins.type\n",
      " |      Create and return a new object.  See help(type) for accurate signature.\n",
      " |  \n",
      " |  ----------------------------------------------------------------------\n",
      " |  Data and other attributes defined here:\n",
      " |  \n",
      " |  __hash__ = None\n",
      "\n"
     ]
    }
   ],
   "source": [
    "help(myList)"
   ]
  },
  {
   "cell_type": "code",
   "execution_count": null,
   "metadata": {
    "colab": {
     "base_uri": "https://localhost:8080/"
    },
    "executionInfo": {
     "elapsed": 3,
     "status": "ok",
     "timestamp": 1675751489818,
     "user": {
      "displayName": "Tushar Goyal",
      "userId": "13566952083918452995"
     },
     "user_tz": -330
    },
    "id": "NnIKCZYXkgLS",
    "outputId": "c9009b12-4d4a-470c-ccf0-0108f7053abe"
   },
   "outputs": [
    {
     "data": {
      "text/plain": [
       "[100, 200, 300, 400, 88888, 88888, 4, 5, 'AB', 100.22]"
      ]
     },
     "execution_count": 33,
     "metadata": {},
     "output_type": "execute_result"
    }
   ],
   "source": [
    "myList"
   ]
  },
  {
   "cell_type": "code",
   "execution_count": null,
   "metadata": {
    "colab": {
     "base_uri": "https://localhost:8080/",
     "height": 166
    },
    "executionInfo": {
     "elapsed": 10,
     "status": "error",
     "timestamp": 1675751523036,
     "user": {
      "displayName": "Tushar Goyal",
      "userId": "13566952083918452995"
     },
     "user_tz": -330
    },
    "id": "G89n3LGHknqr",
    "outputId": "b132d5f9-40c4-4db3-968d-c1e8da5aab4c"
   },
   "outputs": [
    {
     "ename": "TypeError",
     "evalue": "ignored",
     "output_type": "error",
     "traceback": [
      "\u001b[0;31m---------------------------------------------------------------------------\u001b[0m",
      "\u001b[0;31mTypeError\u001b[0m                                 Traceback (most recent call last)",
      "\u001b[0;32m<ipython-input-36-a28561083131>\u001b[0m in \u001b[0;36m<module>\u001b[0;34m\u001b[0m\n\u001b[0;32m----> 1\u001b[0;31m \u001b[0mmyList\u001b[0m\u001b[0;34m.\u001b[0m\u001b[0mappend\u001b[0m\u001b[0;34m(\u001b[0m\u001b[0;36m999\u001b[0m\u001b[0;34m,\u001b[0m\u001b[0;36m10101\u001b[0m\u001b[0;34m)\u001b[0m\u001b[0;34m\u001b[0m\u001b[0;34m\u001b[0m\u001b[0m\n\u001b[0m",
      "\u001b[0;31mTypeError\u001b[0m: append() takes exactly one argument (2 given)"
     ]
    }
   ],
   "source": [
    "# myList.append(999,10101)"
   ]
  },
  {
   "cell_type": "code",
   "execution_count": null,
   "metadata": {
    "colab": {
     "base_uri": "https://localhost:8080/"
    },
    "executionInfo": {
     "elapsed": 11,
     "status": "ok",
     "timestamp": 1675751613742,
     "user": {
      "displayName": "Tushar Goyal",
      "userId": "13566952083918452995"
     },
     "user_tz": -330
    },
    "id": "vuDiOyZmkqCD",
    "outputId": "37b8796b-73d7-4f40-b81b-14cb3ef428b0"
   },
   "outputs": [
    {
     "data": {
      "text/plain": [
       "[100, 200, 300, 400, 88888, 88888, 4, 5, 'AB', 100.22, 999, 'h', 'e', 'y']"
      ]
     },
     "execution_count": 37,
     "metadata": {},
     "output_type": "execute_result"
    }
   ],
   "source": [
    "myList.extend(\"hey\")\n",
    "myList"
   ]
  },
  {
   "cell_type": "code",
   "execution_count": null,
   "metadata": {
    "colab": {
     "base_uri": "https://localhost:8080/"
    },
    "executionInfo": {
     "elapsed": 5,
     "status": "ok",
     "timestamp": 1675751640375,
     "user": {
      "displayName": "Tushar Goyal",
      "userId": "13566952083918452995"
     },
     "user_tz": -330
    },
    "id": "lDwn8eZxkqsK",
    "outputId": "d662b4ca-1108-4e78-d2b4-9d26577eacf5"
   },
   "outputs": [
    {
     "data": {
      "text/plain": [
       "[100,\n",
       " 200,\n",
       " 300,\n",
       " 400,\n",
       " 88888,\n",
       " 88888,\n",
       " 4,\n",
       " 5,\n",
       " 'AB',\n",
       " 100.22,\n",
       " 999,\n",
       " 'h',\n",
       " 'e',\n",
       " 'y',\n",
       " 'hey',\n",
       " 919,\n",
       " 1010]"
      ]
     },
     "execution_count": 38,
     "metadata": {},
     "output_type": "execute_result"
    }
   ],
   "source": [
    "myList.extend([\"hey\",919,1010])\n",
    "myList"
   ]
  },
  {
   "cell_type": "code",
   "execution_count": null,
   "metadata": {
    "colab": {
     "base_uri": "https://localhost:8080/"
    },
    "executionInfo": {
     "elapsed": 10,
     "status": "ok",
     "timestamp": 1675751739770,
     "user": {
      "displayName": "Tushar Goyal",
      "userId": "13566952083918452995"
     },
     "user_tz": -330
    },
    "id": "B3T6SIcTlMka",
    "outputId": "b26c9f2b-51d4-4b76-b790-b79ad3462c6b"
   },
   "outputs": [
    {
     "data": {
      "text/plain": [
       "1"
      ]
     },
     "execution_count": 39,
     "metadata": {},
     "output_type": "execute_result"
    }
   ],
   "source": [
    "myList.count(100)"
   ]
  },
  {
   "cell_type": "code",
   "execution_count": null,
   "metadata": {
    "id": "OVvJ3XaDlkyK"
   },
   "outputs": [],
   "source": [
    "# myList\n",
    "myList.insert(1,\"hey\")"
   ]
  },
  {
   "cell_type": "code",
   "execution_count": null,
   "metadata": {
    "colab": {
     "base_uri": "https://localhost:8080/"
    },
    "executionInfo": {
     "elapsed": 5,
     "status": "ok",
     "timestamp": 1675751785582,
     "user": {
      "displayName": "Tushar Goyal",
      "userId": "13566952083918452995"
     },
     "user_tz": -330
    },
    "id": "ae3TT1Xalrxi",
    "outputId": "19f213a9-2233-4273-817d-a0d528edbf2e"
   },
   "outputs": [
    {
     "data": {
      "text/plain": [
       "[100,\n",
       " 'hey',\n",
       " 200,\n",
       " 300,\n",
       " 400,\n",
       " 88888,\n",
       " 88888,\n",
       " 4,\n",
       " 5,\n",
       " 'AB',\n",
       " 100.22,\n",
       " 999,\n",
       " 'h',\n",
       " 'e',\n",
       " 'y',\n",
       " 'hey',\n",
       " 919,\n",
       " 1010]"
      ]
     },
     "execution_count": 42,
     "metadata": {},
     "output_type": "execute_result"
    }
   ],
   "source": [
    "myList"
   ]
  },
  {
   "cell_type": "code",
   "execution_count": null,
   "metadata": {
    "colab": {
     "base_uri": "https://localhost:8080/",
     "height": 166
    },
    "executionInfo": {
     "elapsed": 10,
     "status": "error",
     "timestamp": 1675751840288,
     "user": {
      "displayName": "Tushar Goyal",
      "userId": "13566952083918452995"
     },
     "user_tz": -330
    },
    "id": "Ej5-ZGpylv8S",
    "outputId": "a7039b7b-40d1-4ca4-d8d3-5becc3494636"
   },
   "outputs": [
    {
     "ename": "TypeError",
     "evalue": "ignored",
     "output_type": "error",
     "traceback": [
      "\u001b[0;31m---------------------------------------------------------------------------\u001b[0m",
      "\u001b[0;31mTypeError\u001b[0m                                 Traceback (most recent call last)",
      "\u001b[0;32m<ipython-input-44-56aa534bad77>\u001b[0m in \u001b[0;36m<module>\u001b[0;34m\u001b[0m\n\u001b[0;32m----> 1\u001b[0;31m \u001b[0mmyList\u001b[0m\u001b[0;34m.\u001b[0m\u001b[0msort\u001b[0m\u001b[0;34m(\u001b[0m\u001b[0;34m)\u001b[0m\u001b[0;34m\u001b[0m\u001b[0;34m\u001b[0m\u001b[0m\n\u001b[0m",
      "\u001b[0;31mTypeError\u001b[0m: '<' not supported between instances of 'str' and 'int'"
     ]
    }
   ],
   "source": [
    "# myList.sort()"
   ]
  },
  {
   "cell_type": "code",
   "execution_count": null,
   "metadata": {
    "colab": {
     "base_uri": "https://localhost:8080/"
    },
    "executionInfo": {
     "elapsed": 3,
     "status": "ok",
     "timestamp": 1675751972162,
     "user": {
      "displayName": "Tushar Goyal",
      "userId": "13566952083918452995"
     },
     "user_tz": -330
    },
    "id": "tJofHAINl68a",
    "outputId": "b1146d75-c576-4d18-a5ca-5c41ac5f09d9"
   },
   "outputs": [
    {
     "name": "stdout",
     "output_type": "stream",
     "text": [
      "139629466364928\n",
      "[8, 8.0, 9, 10, 11, 15]\n",
      "139629466364928\n"
     ]
    }
   ],
   "source": [
    "myNumber= [10,9,8,11,15,8.0]\n",
    "\n",
    "print(id(myNumber))\n",
    "myNumber.sort()\n",
    "\n",
    "print(myNumber)\n",
    "print(id(myNumber))"
   ]
  },
  {
   "cell_type": "code",
   "execution_count": null,
   "metadata": {
    "colab": {
     "base_uri": "https://localhost:8080/",
     "height": 35
    },
    "executionInfo": {
     "elapsed": 10,
     "status": "ok",
     "timestamp": 1675752071833,
     "user": {
      "displayName": "Tushar Goyal",
      "userId": "13566952083918452995"
     },
     "user_tz": -330
    },
    "id": "9XcqCwX5mIyJ",
    "outputId": "71aed621-2cab-473d-83fa-3cf9bb1d3034"
   },
   "outputs": [
    {
     "data": {
      "application/vnd.google.colaboratory.intrinsic+json": {
       "type": "string"
      },
      "text/plain": [
       "'hey'"
      ]
     },
     "execution_count": 57,
     "metadata": {},
     "output_type": "execute_result"
    }
   ],
   "source": [
    "myList.pop(0)"
   ]
  },
  {
   "cell_type": "code",
   "execution_count": null,
   "metadata": {
    "colab": {
     "base_uri": "https://localhost:8080/"
    },
    "executionInfo": {
     "elapsed": 523,
     "status": "ok",
     "timestamp": 1675752065396,
     "user": {
      "displayName": "Tushar Goyal",
      "userId": "13566952083918452995"
     },
     "user_tz": -330
    },
    "id": "GxAn_L1Iml1K",
    "outputId": "9312b443-4869-4bc5-e85a-d3985fcbffee"
   },
   "outputs": [
    {
     "data": {
      "text/plain": [
       "['hey', 200, 300, 400, 88888, 88888, 4, 5, 'AB', 100.22, 999, 'h', 'e', 'y']"
      ]
     },
     "execution_count": 56,
     "metadata": {},
     "output_type": "execute_result"
    }
   ],
   "source": [
    "myList"
   ]
  },
  {
   "cell_type": "code",
   "execution_count": null,
   "metadata": {
    "colab": {
     "base_uri": "https://localhost:8080/",
     "height": 35
    },
    "executionInfo": {
     "elapsed": 17,
     "status": "ok",
     "timestamp": 1675752047681,
     "user": {
      "displayName": "Tushar Goyal",
      "userId": "13566952083918452995"
     },
     "user_tz": -330
    },
    "id": "1MPjp9BUmqMC",
    "outputId": "b81b610f-6fbd-4fe4-9358-7765ff2c6c87"
   },
   "outputs": [
    {
     "data": {
      "application/vnd.google.colaboratory.intrinsic+json": {
       "type": "string"
      },
      "text/plain": [
       "'hey'"
      ]
     },
     "execution_count": 54,
     "metadata": {},
     "output_type": "execute_result"
    }
   ],
   "source": [
    "x"
   ]
  },
  {
   "cell_type": "code",
   "execution_count": null,
   "metadata": {
    "id": "69NLg1q5mvsy"
   },
   "outputs": [],
   "source": [
    "x=10"
   ]
  },
  {
   "cell_type": "code",
   "execution_count": null,
   "metadata": {
    "colab": {
     "base_uri": "https://localhost:8080/"
    },
    "executionInfo": {
     "elapsed": 38,
     "status": "ok",
     "timestamp": 1675752114892,
     "user": {
      "displayName": "Tushar Goyal",
      "userId": "13566952083918452995"
     },
     "user_tz": -330
    },
    "id": "roTL9OcBm9ta",
    "outputId": "339b95c6-efa0-46de-e8b4-185f10633826"
   },
   "outputs": [
    {
     "name": "stdout",
     "output_type": "stream",
     "text": [
      "10\n"
     ]
    }
   ],
   "source": [
    "print(x)"
   ]
  },
  {
   "cell_type": "code",
   "execution_count": null,
   "metadata": {
    "colab": {
     "base_uri": "https://localhost:8080/",
     "height": 201
    },
    "executionInfo": {
     "elapsed": 13,
     "status": "error",
     "timestamp": 1675752127530,
     "user": {
      "displayName": "Tushar Goyal",
      "userId": "13566952083918452995"
     },
     "user_tz": -330
    },
    "id": "dupB1l3Jm--Z",
    "outputId": "f8f6450c-c518-4c3d-9d68-02783cffca71"
   },
   "outputs": [
    {
     "ename": "NameError",
     "evalue": "ignored",
     "output_type": "error",
     "traceback": [
      "\u001b[0;31m---------------------------------------------------------------------------\u001b[0m",
      "\u001b[0;31mNameError\u001b[0m                                 Traceback (most recent call last)",
      "\u001b[0;32m<ipython-input-60-95de704e2f0d>\u001b[0m in \u001b[0;36m<module>\u001b[0;34m\u001b[0m\n\u001b[1;32m      1\u001b[0m \u001b[0;32mdel\u001b[0m \u001b[0mx\u001b[0m\u001b[0;34m\u001b[0m\u001b[0;34m\u001b[0m\u001b[0m\n\u001b[1;32m      2\u001b[0m \u001b[0;34m\u001b[0m\u001b[0m\n\u001b[0;32m----> 3\u001b[0;31m \u001b[0mprint\u001b[0m\u001b[0;34m(\u001b[0m\u001b[0mx\u001b[0m\u001b[0;34m)\u001b[0m\u001b[0;34m\u001b[0m\u001b[0;34m\u001b[0m\u001b[0m\n\u001b[0m",
      "\u001b[0;31mNameError\u001b[0m: name 'x' is not defined"
     ]
    }
   ],
   "source": [
    "del x\n",
    "\n",
    "print(x)"
   ]
  },
  {
   "cell_type": "code",
   "execution_count": null,
   "metadata": {
    "colab": {
     "base_uri": "https://localhost:8080/"
    },
    "executionInfo": {
     "elapsed": 7,
     "status": "ok",
     "timestamp": 1675752208584,
     "user": {
      "displayName": "Tushar Goyal",
      "userId": "13566952083918452995"
     },
     "user_tz": -330
    },
    "id": "kBfEnK3_nCnR",
    "outputId": "76177abb-da34-44bd-eb4a-f6fb6f59185a"
   },
   "outputs": [
    {
     "data": {
      "text/plain": [
       "[300, 400, 88888, 88888, 4, 5, 'AB', 100.22, 999, 'h', 'e', 'y']"
      ]
     },
     "execution_count": 62,
     "metadata": {},
     "output_type": "execute_result"
    }
   ],
   "source": [
    "del myList[0]\n",
    "\n",
    "myList"
   ]
  },
  {
   "cell_type": "code",
   "execution_count": null,
   "metadata": {
    "colab": {
     "base_uri": "https://localhost:8080/"
    },
    "executionInfo": {
     "elapsed": 464,
     "status": "ok",
     "timestamp": 1675753045741,
     "user": {
      "displayName": "Tushar Goyal",
      "userId": "13566952083918452995"
     },
     "user_tz": -330
    },
    "id": "5XprvkoHnVdB",
    "outputId": "ca2a792c-df15-40dc-c114-6e711f8eabf2"
   },
   "outputs": [
    {
     "name": "stdout",
     "output_type": "stream",
     "text": [
      "<class 'tuple'>\n"
     ]
    }
   ],
   "source": [
    "#  tuple  => is sequential collection of element having the index position\n",
    "#  are immutable \n",
    "#  tuple are created using ()\n",
    "\n",
    "\n",
    "myTuple=10,\n",
    "print(type(myTuple))"
   ]
  },
  {
   "cell_type": "code",
   "execution_count": null,
   "metadata": {
    "colab": {
     "base_uri": "https://localhost:8080/"
    },
    "executionInfo": {
     "elapsed": 462,
     "status": "ok",
     "timestamp": 1675753088193,
     "user": {
      "displayName": "Tushar Goyal",
      "userId": "13566952083918452995"
     },
     "user_tz": -330
    },
    "id": "rnTWDXxvqUTO",
    "outputId": "0fb9a24e-dd35-4e3a-c9c4-d447d349bf75"
   },
   "outputs": [
    {
     "data": {
      "text/plain": [
       "(10,)"
      ]
     },
     "execution_count": 67,
     "metadata": {},
     "output_type": "execute_result"
    }
   ],
   "source": [
    "#  tuple => null reference\n",
    "myTuple"
   ]
  },
  {
   "cell_type": "code",
   "execution_count": null,
   "metadata": {
    "colab": {
     "base_uri": "https://localhost:8080/"
    },
    "executionInfo": {
     "elapsed": 8,
     "status": "ok",
     "timestamp": 1675753107494,
     "user": {
      "displayName": "Tushar Goyal",
      "userId": "13566952083918452995"
     },
     "user_tz": -330
    },
    "id": "xhIuZUz_qlBI",
    "outputId": "9c52e465-ca4f-44c2-b099-807ddeb033f4"
   },
   "outputs": [
    {
     "name": "stdout",
     "output_type": "stream",
     "text": [
      "() <class 'tuple'>\n"
     ]
    }
   ],
   "source": [
    "myTuple=()\n",
    "print(myTuple, type(myTuple))"
   ]
  },
  {
   "cell_type": "code",
   "execution_count": null,
   "metadata": {
    "id": "qpQM8x1Zqykh"
   },
   "outputs": [],
   "source": [
    "myTuple=(10,20,30,\"BAC\")"
   ]
  },
  {
   "cell_type": "code",
   "execution_count": null,
   "metadata": {
    "colab": {
     "base_uri": "https://localhost:8080/"
    },
    "executionInfo": {
     "elapsed": 5,
     "status": "ok",
     "timestamp": 1675753206850,
     "user": {
      "displayName": "Tushar Goyal",
      "userId": "13566952083918452995"
     },
     "user_tz": -330
    },
    "id": "Mfg-zulkrG-w",
    "outputId": "cbf655f3-b669-40e2-b4c7-a186e55bef08"
   },
   "outputs": [
    {
     "data": {
      "text/plain": [
       "20"
      ]
     },
     "execution_count": 72,
     "metadata": {},
     "output_type": "execute_result"
    }
   ],
   "source": [
    "myTuple[1]"
   ]
  },
  {
   "cell_type": "code",
   "execution_count": null,
   "metadata": {
    "colab": {
     "base_uri": "https://localhost:8080/"
    },
    "executionInfo": {
     "elapsed": 5,
     "status": "ok",
     "timestamp": 1675753215173,
     "user": {
      "displayName": "Tushar Goyal",
      "userId": "13566952083918452995"
     },
     "user_tz": -330
    },
    "id": "UoIZUO4krIgK",
    "outputId": "bf9f7536-c638-4e28-c18e-cba3daf6e60a"
   },
   "outputs": [
    {
     "data": {
      "text/plain": [
       "(10, 20, 30)"
      ]
     },
     "execution_count": 73,
     "metadata": {},
     "output_type": "execute_result"
    }
   ],
   "source": [
    "myTuple[0:3]"
   ]
  },
  {
   "cell_type": "code",
   "execution_count": null,
   "metadata": {
    "id": "L4xKUVK2rMiQ"
   },
   "outputs": [],
   "source": [
    "myTuple"
   ]
  },
  {
   "cell_type": "code",
   "execution_count": 2,
   "metadata": {
    "colab": {
     "base_uri": "https://localhost:8080/"
    },
    "executionInfo": {
     "elapsed": 380,
     "status": "ok",
     "timestamp": 1675760296801,
     "user": {
      "displayName": "Kiran Sharma",
      "userId": "01640249422164805524"
     },
     "user_tz": -330
    },
    "id": "CzZ4moWxErAM",
    "outputId": "41026a75-1399-49f7-e116-21189664c868"
   },
   "outputs": [
    {
     "name": "stdout",
     "output_type": "stream",
     "text": [
      "<class 'dict'>\n"
     ]
    }
   ],
   "source": [
    "#  List vs tuple\n",
    "\n",
    "#  dictionary\n",
    "\n",
    "#  Oxford dictionary\n",
    "\n",
    "#  a data type where we store the data associated with some identifier\n",
    "#  identifier will be unique\n",
    "#  data => may be unique or may be duplicate\n",
    "#  key : value => key will be unique\n",
    "\n",
    "\n",
    "myDictionary = {\"name\":\"Tushar\",\"age\":60}\n",
    "\n",
    "print( type(myDictionary))"
   ]
  },
  {
   "cell_type": "code",
   "execution_count": 3,
   "metadata": {
    "colab": {
     "base_uri": "https://localhost:8080/"
    },
    "executionInfo": {
     "elapsed": 15,
     "status": "ok",
     "timestamp": 1675760303531,
     "user": {
      "displayName": "Kiran Sharma",
      "userId": "01640249422164805524"
     },
     "user_tz": -330
    },
    "id": "38AjbLi1GFSz",
    "outputId": "84102286-6b96-4175-f18c-11656c1caabb"
   },
   "outputs": [
    {
     "data": {
      "text/plain": [
       "{'name': 'Tushar', 'age': 60}"
      ]
     },
     "execution_count": 3,
     "metadata": {},
     "output_type": "execute_result"
    }
   ],
   "source": [
    "myDictionary"
   ]
  },
  {
   "cell_type": "code",
   "execution_count": 6,
   "metadata": {
    "executionInfo": {
     "elapsed": 3,
     "status": "ok",
     "timestamp": 1675760434589,
     "user": {
      "displayName": "Kiran Sharma",
      "userId": "01640249422164805524"
     },
     "user_tz": -330
    },
    "id": "ZqOvQYSkGPcB"
   },
   "outputs": [],
   "source": [
    "#  dictionary => unordered collection of element ( no index position )\n",
    "\n",
    "myDictionary[\"name\"]\n",
    "\n",
    "myDictionary[\"name\"]=\"Goyal\""
   ]
  },
  {
   "cell_type": "code",
   "execution_count": 7,
   "metadata": {
    "colab": {
     "base_uri": "https://localhost:8080/"
    },
    "executionInfo": {
     "elapsed": 5,
     "status": "ok",
     "timestamp": 1675760435472,
     "user": {
      "displayName": "Kiran Sharma",
      "userId": "01640249422164805524"
     },
     "user_tz": -330
    },
    "id": "85K1Tr0EGlFg",
    "outputId": "49bde75f-4b7a-43c3-8e0b-4ab79f34ddfe"
   },
   "outputs": [
    {
     "data": {
      "text/plain": [
       "{'name': 'Goyal', 'age': 60}"
      ]
     },
     "execution_count": 7,
     "metadata": {},
     "output_type": "execute_result"
    }
   ],
   "source": [
    "myDictionary"
   ]
  },
  {
   "cell_type": "code",
   "execution_count": 8,
   "metadata": {
    "colab": {
     "base_uri": "https://localhost:8080/"
    },
    "executionInfo": {
     "elapsed": 5,
     "status": "ok",
     "timestamp": 1675760477423,
     "user": {
      "displayName": "Kiran Sharma",
      "userId": "01640249422164805524"
     },
     "user_tz": -330
    },
    "id": "7rYC-H0oGv4Y",
    "outputId": "8c65bbba-9558-4ee0-b6a6-2123c326fb16"
   },
   "outputs": [
    {
     "data": {
      "text/plain": [
       "{'name': 'Goyal', 'age': 60, 'salary': 10000}"
      ]
     },
     "execution_count": 8,
     "metadata": {},
     "output_type": "execute_result"
    }
   ],
   "source": [
    "#  insert a element\n",
    "myDictionary[\"salary\"]=10000\n",
    "\n",
    "myDictionary"
   ]
  },
  {
   "cell_type": "code",
   "execution_count": 9,
   "metadata": {
    "executionInfo": {
     "elapsed": 10,
     "status": "ok",
     "timestamp": 1675760506196,
     "user": {
      "displayName": "Kiran Sharma",
      "userId": "01640249422164805524"
     },
     "user_tz": -330
    },
    "id": "Q3-Y5aFTG6Fw"
   },
   "outputs": [],
   "source": [
    "myDictionary.clear()"
   ]
  },
  {
   "cell_type": "code",
   "execution_count": 22,
   "metadata": {
    "executionInfo": {
     "elapsed": 619,
     "status": "ok",
     "timestamp": 1675760693512,
     "user": {
      "displayName": "Kiran Sharma",
      "userId": "01640249422164805524"
     },
     "user_tz": -330
    },
    "id": "aiobvmcqHA-H"
   },
   "outputs": [],
   "source": [
    "\n",
    "myDictionary = {\"name\":\"Tushar\",\"age\":60}\n",
    "\n",
    "# myDictionary.pop(\"name\")"
   ]
  },
  {
   "cell_type": "code",
   "execution_count": 23,
   "metadata": {
    "colab": {
     "base_uri": "https://localhost:8080/"
    },
    "executionInfo": {
     "elapsed": 15,
     "status": "ok",
     "timestamp": 1675760694851,
     "user": {
      "displayName": "Kiran Sharma",
      "userId": "01640249422164805524"
     },
     "user_tz": -330
    },
    "id": "VXgU5gwrHBQv",
    "outputId": "7be6e546-3b7a-43d8-c1ce-b9d51e0c8c38"
   },
   "outputs": [
    {
     "data": {
      "text/plain": [
       "('age', 60)"
      ]
     },
     "execution_count": 23,
     "metadata": {},
     "output_type": "execute_result"
    }
   ],
   "source": [
    "#***********\n",
    "myDictionary.popitem()"
   ]
  },
  {
   "cell_type": "code",
   "execution_count": 15,
   "metadata": {
    "executionInfo": {
     "elapsed": 11,
     "status": "ok",
     "timestamp": 1675760627162,
     "user": {
      "displayName": "Kiran Sharma",
      "userId": "01640249422164805524"
     },
     "user_tz": -330
    },
    "id": "C0-3UcEVHbP4"
   },
   "outputs": [],
   "source": [
    "del  myDictionary[\"age\"]"
   ]
  },
  {
   "cell_type": "code",
   "execution_count": 34,
   "metadata": {
    "colab": {
     "base_uri": "https://localhost:8080/"
    },
    "executionInfo": {
     "elapsed": 5,
     "status": "ok",
     "timestamp": 1675761122038,
     "user": {
      "displayName": "Kiran Sharma",
      "userId": "01640249422164805524"
     },
     "user_tz": -330
    },
    "id": "qz1awPgeIJ8y",
    "outputId": "77ecf950-2f21-49fd-d79b-0941486f73b7"
   },
   "outputs": [
    {
     "data": {
      "text/plain": [
       "{'name': 'Goyal', 'age': 60}"
      ]
     },
     "execution_count": 34,
     "metadata": {},
     "output_type": "execute_result"
    }
   ],
   "source": [
    "myDictionary = {\"name\":\"Tushar\",\"age\":60, \"name\":\"Goyal\"}\n",
    "\n",
    "\n",
    "myDictionary\n",
    "\n",
    "# for key in myDictionary.keys():\n",
    "#   print(key, myDictionary[key])\n",
    "\n",
    "\n"
   ]
  },
  {
   "cell_type": "code",
   "execution_count": 28,
   "metadata": {
    "colab": {
     "base_uri": "https://localhost:8080/"
    },
    "executionInfo": {
     "elapsed": 337,
     "status": "ok",
     "timestamp": 1675760911131,
     "user": {
      "displayName": "Kiran Sharma",
      "userId": "01640249422164805524"
     },
     "user_tz": -330
    },
    "id": "Ytb_zNE1IJoM",
    "outputId": "1b2e51d6-84dc-47d9-87c4-d8c6eb5dc5fb"
   },
   "outputs": [
    {
     "name": "stdout",
     "output_type": "stream",
     "text": [
      "Tushar\n",
      "60\n"
     ]
    }
   ],
   "source": [
    "for value in myDictionary.values():\n",
    "  print(value)\n"
   ]
  },
  {
   "cell_type": "code",
   "execution_count": 32,
   "metadata": {
    "colab": {
     "base_uri": "https://localhost:8080/"
    },
    "executionInfo": {
     "elapsed": 6,
     "status": "ok",
     "timestamp": 1675761082988,
     "user": {
      "displayName": "Kiran Sharma",
      "userId": "01640249422164805524"
     },
     "user_tz": -330
    },
    "id": "3ESuPFL6ImKi",
    "outputId": "74df32ec-6e8d-4851-e3a1-edc92922e32a"
   },
   "outputs": [
    {
     "name": "stdout",
     "output_type": "stream",
     "text": [
      "name <class 'str'>\n",
      "age <class 'int'>\n"
     ]
    }
   ],
   "source": [
    "for key,value  in myDictionary.items():\n",
    "  print(key,type(value))\n"
   ]
  },
  {
   "cell_type": "code",
   "execution_count": 17,
   "metadata": {
    "colab": {
     "base_uri": "https://localhost:8080/"
    },
    "executionInfo": {
     "elapsed": 20,
     "status": "ok",
     "timestamp": 1675760648291,
     "user": {
      "displayName": "Kiran Sharma",
      "userId": "01640249422164805524"
     },
     "user_tz": -330
    },
    "id": "EXIOflajHeg4",
    "outputId": "2be54925-bc46-49b2-d883-93424dfce576"
   },
   "outputs": [
    {
     "name": "stdout",
     "output_type": "stream",
     "text": [
      "Help on dict object:\n",
      "\n",
      "class dict(object)\n",
      " |  dict() -> new empty dictionary\n",
      " |  dict(mapping) -> new dictionary initialized from a mapping object's\n",
      " |      (key, value) pairs\n",
      " |  dict(iterable) -> new dictionary initialized as if via:\n",
      " |      d = {}\n",
      " |      for k, v in iterable:\n",
      " |          d[k] = v\n",
      " |  dict(**kwargs) -> new dictionary initialized with the name=value pairs\n",
      " |      in the keyword argument list.  For example:  dict(one=1, two=2)\n",
      " |  \n",
      " |  Built-in subclasses:\n",
      " |      StgDict\n",
      " |  \n",
      " |  Methods defined here:\n",
      " |  \n",
      " |  __contains__(self, key, /)\n",
      " |      True if the dictionary has the specified key, else False.\n",
      " |  \n",
      " |  __delitem__(self, key, /)\n",
      " |      Delete self[key].\n",
      " |  \n",
      " |  __eq__(self, value, /)\n",
      " |      Return self==value.\n",
      " |  \n",
      " |  __ge__(self, value, /)\n",
      " |      Return self>=value.\n",
      " |  \n",
      " |  __getattribute__(self, name, /)\n",
      " |      Return getattr(self, name).\n",
      " |  \n",
      " |  __getitem__(...)\n",
      " |      x.__getitem__(y) <==> x[y]\n",
      " |  \n",
      " |  __gt__(self, value, /)\n",
      " |      Return self>value.\n",
      " |  \n",
      " |  __init__(self, /, *args, **kwargs)\n",
      " |      Initialize self.  See help(type(self)) for accurate signature.\n",
      " |  \n",
      " |  __iter__(self, /)\n",
      " |      Implement iter(self).\n",
      " |  \n",
      " |  __le__(self, value, /)\n",
      " |      Return self<=value.\n",
      " |  \n",
      " |  __len__(self, /)\n",
      " |      Return len(self).\n",
      " |  \n",
      " |  __lt__(self, value, /)\n",
      " |      Return self<value.\n",
      " |  \n",
      " |  __ne__(self, value, /)\n",
      " |      Return self!=value.\n",
      " |  \n",
      " |  __repr__(self, /)\n",
      " |      Return repr(self).\n",
      " |  \n",
      " |  __reversed__(self, /)\n",
      " |      Return a reverse iterator over the dict keys.\n",
      " |  \n",
      " |  __setitem__(self, key, value, /)\n",
      " |      Set self[key] to value.\n",
      " |  \n",
      " |  __sizeof__(...)\n",
      " |      D.__sizeof__() -> size of D in memory, in bytes\n",
      " |  \n",
      " |  clear(...)\n",
      " |      D.clear() -> None.  Remove all items from D.\n",
      " |  \n",
      " |  copy(...)\n",
      " |      D.copy() -> a shallow copy of D\n",
      " |  \n",
      " |  get(self, key, default=None, /)\n",
      " |      Return the value for key if key is in the dictionary, else default.\n",
      " |  \n",
      " |  items(...)\n",
      " |      D.items() -> a set-like object providing a view on D's items\n",
      " |  \n",
      " |  keys(...)\n",
      " |      D.keys() -> a set-like object providing a view on D's keys\n",
      " |  \n",
      " |  pop(...)\n",
      " |      D.pop(k[,d]) -> v, remove specified key and return the corresponding value.\n",
      " |      If key is not found, d is returned if given, otherwise KeyError is raised\n",
      " |  \n",
      " |  popitem(self, /)\n",
      " |      Remove and return a (key, value) pair as a 2-tuple.\n",
      " |      \n",
      " |      Pairs are returned in LIFO (last-in, first-out) order.\n",
      " |      Raises KeyError if the dict is empty.\n",
      " |  \n",
      " |  setdefault(self, key, default=None, /)\n",
      " |      Insert key with a value of default if key is not in the dictionary.\n",
      " |      \n",
      " |      Return the value for key if key is in the dictionary, else default.\n",
      " |  \n",
      " |  update(...)\n",
      " |      D.update([E, ]**F) -> None.  Update D from dict/iterable E and F.\n",
      " |      If E is present and has a .keys() method, then does:  for k in E: D[k] = E[k]\n",
      " |      If E is present and lacks a .keys() method, then does:  for k, v in E: D[k] = v\n",
      " |      In either case, this is followed by: for k in F:  D[k] = F[k]\n",
      " |  \n",
      " |  values(...)\n",
      " |      D.values() -> an object providing a view on D's values\n",
      " |  \n",
      " |  ----------------------------------------------------------------------\n",
      " |  Class methods defined here:\n",
      " |  \n",
      " |  fromkeys(iterable, value=None, /) from builtins.type\n",
      " |      Create a new dictionary with keys from iterable and values set to value.\n",
      " |  \n",
      " |  ----------------------------------------------------------------------\n",
      " |  Static methods defined here:\n",
      " |  \n",
      " |  __new__(*args, **kwargs) from builtins.type\n",
      " |      Create and return a new object.  See help(type) for accurate signature.\n",
      " |  \n",
      " |  ----------------------------------------------------------------------\n",
      " |  Data and other attributes defined here:\n",
      " |  \n",
      " |  __hash__ = None\n",
      "\n"
     ]
    }
   ],
   "source": [
    "\n",
    "help( myDictionary)"
   ]
  },
  {
   "cell_type": "code",
   "execution_count": 38,
   "metadata": {
    "executionInfo": {
     "elapsed": 389,
     "status": "ok",
     "timestamp": 1675761283089,
     "user": {
      "displayName": "Kiran Sharma",
      "userId": "01640249422164805524"
     },
     "user_tz": -330
    },
    "id": "GV465t3jHf3Q"
   },
   "outputs": [],
   "source": [
    "#  key should be always of immutable data type\n",
    "\n",
    "myDictionary = {\"name\":\"Tushar\",\"age\":60, (10):\"Goyal\"}"
   ]
  },
  {
   "cell_type": "code",
   "execution_count": 8,
   "metadata": {},
   "outputs": [
    {
     "name": "stdout",
     "output_type": "stream",
     "text": [
      "<class 'int'>\n",
      "<class 'tuple'>\n"
     ]
    }
   ],
   "source": [
    "#single element tuple is not possible. \n",
    "t = (1)\n",
    "a = (1,)\n",
    "print(type(t))\n",
    "print(type(a))"
   ]
  },
  {
   "cell_type": "code",
   "execution_count": 39,
   "metadata": {
    "colab": {
     "base_uri": "https://localhost:8080/"
    },
    "executionInfo": {
     "elapsed": 356,
     "status": "ok",
     "timestamp": 1675761286744,
     "user": {
      "displayName": "Kiran Sharma",
      "userId": "01640249422164805524"
     },
     "user_tz": -330
    },
    "id": "bTulzZtpJq6X",
    "outputId": "739d025c-3994-4901-c9fb-6d5398f6e18d"
   },
   "outputs": [
    {
     "data": {
      "text/plain": [
       "{'name': 'Tushar', 'age': 60, 10: 'Goyal'}"
      ]
     },
     "execution_count": 39,
     "metadata": {},
     "output_type": "execute_result"
    }
   ],
   "source": [
    "myDictionary"
   ]
  },
  {
   "cell_type": "code",
   "execution_count": 40,
   "metadata": {
    "colab": {
     "base_uri": "https://localhost:8080/"
    },
    "executionInfo": {
     "elapsed": 6,
     "status": "ok",
     "timestamp": 1675761366225,
     "user": {
      "displayName": "Kiran Sharma",
      "userId": "01640249422164805524"
     },
     "user_tz": -330
    },
    "id": "WkwF64MIJswg",
    "outputId": "04ad823f-c75f-432b-fd11-22e81601cb86"
   },
   "outputs": [
    {
     "data": {
      "text/plain": [
       "{'name': 'Tushar', 'age': 60, 10: 'Goyal'}"
      ]
     },
     "execution_count": 40,
     "metadata": {},
     "output_type": "execute_result"
    }
   ],
   "source": [
    "myDictionary "
   ]
  },
  {
   "cell_type": "code",
   "execution_count": 42,
   "metadata": {
    "colab": {
     "base_uri": "https://localhost:8080/"
    },
    "executionInfo": {
     "elapsed": 4,
     "status": "ok",
     "timestamp": 1675761495453,
     "user": {
      "displayName": "Kiran Sharma",
      "userId": "01640249422164805524"
     },
     "user_tz": -330
    },
    "id": "2oy4YZf_KTEO",
    "outputId": "e38ba949-04b3-49c6-97fb-c197283cb543"
   },
   "outputs": [
    {
     "name": "stdout",
     "output_type": "stream",
     "text": [
      "<class 'set'>\n"
     ]
    }
   ],
   "source": [
    "#  set : mututal data type\n",
    "#  unorederd collection of element and all the element will be unique\n",
    "#  set contain all the element of immutable data type.\n",
    "# set itself is mutable but must contain immutable data type. \n",
    "\n",
    "mySet = set( {} ) \n",
    "print( type(mySet) )"
   ]
  },
  {
   "cell_type": "code",
   "execution_count": 48,
   "metadata": {
    "colab": {
     "base_uri": "https://localhost:8080/"
    },
    "executionInfo": {
     "elapsed": 11,
     "status": "ok",
     "timestamp": 1675761607062,
     "user": {
      "displayName": "Kiran Sharma",
      "userId": "01640249422164805524"
     },
     "user_tz": -330
    },
    "id": "a0Y6ofV7KwKX",
    "outputId": "05b80727-d2a7-4897-b4c2-e738d3f70024"
   },
   "outputs": [
    {
     "data": {
      "text/plain": [
       "{(10, 20), 10, 100, 20, 30, 40, 'ABC'}"
      ]
     },
     "execution_count": 48,
     "metadata": {},
     "output_type": "execute_result"
    }
   ],
   "source": [
    "mySet = {10,20,30,40,100,10,\"ABC\",(10,20)}\n",
    "mySet"
   ]
  },
  {
   "cell_type": "code",
   "execution_count": 15,
   "metadata": {
    "colab": {
     "base_uri": "https://localhost:8080/"
    },
    "executionInfo": {
     "elapsed": 7,
     "status": "ok",
     "timestamp": 1675761775332,
     "user": {
      "displayName": "Kiran Sharma",
      "userId": "01640249422164805524"
     },
     "user_tz": -330
    },
    "id": "nM60yEUvK4X-",
    "outputId": "daee432c-e655-4aea-8cbc-1ad1be5c5b19"
   },
   "outputs": [
    {
     "name": "stdout",
     "output_type": "stream",
     "text": [
      "(10, 20, [3]) 2251339051584\n"
     ]
    }
   ],
   "source": [
    "# a tuple elemts can not be changed. But inside of elemnets can be changes. Becaues reference remains the same always. \n",
    "myTuple = (10,20,[3])\n",
    "\n",
    "print(myTuple, id(myTuple))"
   ]
  },
  {
   "cell_type": "code",
   "execution_count": 17,
   "metadata": {
    "executionInfo": {
     "elapsed": 346,
     "status": "ok",
     "timestamp": 1675761837906,
     "user": {
      "displayName": "Kiran Sharma",
      "userId": "01640249422164805524"
     },
     "user_tz": -330
    },
    "id": "w32u8zorLiJW"
   },
   "outputs": [],
   "source": [
    "myTuple[-1][0] = 9"
   ]
  },
  {
   "cell_type": "code",
   "execution_count": 18,
   "metadata": {
    "colab": {
     "base_uri": "https://localhost:8080/"
    },
    "executionInfo": {
     "elapsed": 5,
     "status": "ok",
     "timestamp": 1675761775676,
     "user": {
      "displayName": "Kiran Sharma",
      "userId": "01640249422164805524"
     },
     "user_tz": -330
    },
    "id": "nWcS3Gj-LpdX",
    "outputId": "ea104afc-fa8f-41e0-8a90-6ee77ccf131e"
   },
   "outputs": [
    {
     "name": "stdout",
     "output_type": "stream",
     "text": [
      "(10, 20, [9]) 2251339051584\n"
     ]
    }
   ],
   "source": [
    "print(myTuple, id(myTuple))"
   ]
  },
  {
   "cell_type": "code",
   "execution_count": 3,
   "metadata": {
    "colab": {
     "base_uri": "https://localhost:8080/"
    },
    "executionInfo": {
     "elapsed": 5,
     "status": "ok",
     "timestamp": 1675761959959,
     "user": {
      "displayName": "Kiran Sharma",
      "userId": "01640249422164805524"
     },
     "user_tz": -330
    },
    "id": "LVUJVZCGLwKO",
    "outputId": "cce1a9ed-3f5e-4c8d-b4ad-0295fba74c55"
   },
   "outputs": [],
   "source": [
    "mySet = set(  [10,203,4] ) "
   ]
  },
  {
   "cell_type": "code",
   "execution_count": 4,
   "metadata": {
    "colab": {
     "base_uri": "https://localhost:8080/"
    },
    "executionInfo": {
     "elapsed": 352,
     "status": "ok",
     "timestamp": 1675761991352,
     "user": {
      "displayName": "Kiran Sharma",
      "userId": "01640249422164805524"
     },
     "user_tz": -330
    },
    "id": "PBigzdrmMah-",
    "outputId": "1801fefd-4a5d-4f01-f85f-c897058e03d7"
   },
   "outputs": [
    {
     "data": {
      "text/plain": [
       "{4, 10, 203}"
      ]
     },
     "execution_count": 4,
     "metadata": {},
     "output_type": "execute_result"
    }
   ],
   "source": [
    "mySet"
   ]
  },
  {
   "cell_type": "code",
   "execution_count": 5,
   "metadata": {
    "colab": {
     "base_uri": "https://localhost:8080/",
     "height": 166
    },
    "executionInfo": {
     "elapsed": 6,
     "status": "error",
     "timestamp": 1675762031673,
     "user": {
      "displayName": "Kiran Sharma",
      "userId": "01640249422164805524"
     },
     "user_tz": -330
    },
    "id": "qSgP8A6JMraG",
    "outputId": "ca532f63-6a3e-4346-ef04-0a24ef5a8091"
   },
   "outputs": [],
   "source": [
    "mySet.remove(10)"
   ]
  },
  {
   "cell_type": "code",
   "execution_count": 6,
   "metadata": {
    "colab": {
     "base_uri": "https://localhost:8080/"
    },
    "executionInfo": {
     "elapsed": 5,
     "status": "ok",
     "timestamp": 1675762041260,
     "user": {
      "displayName": "Kiran Sharma",
      "userId": "01640249422164805524"
     },
     "user_tz": -330
    },
    "id": "XQsmHpm2Mwtv",
    "outputId": "3c369581-48d3-4ff7-a1eb-a790858ddc9f"
   },
   "outputs": [
    {
     "data": {
      "text/plain": [
       "{4, 203}"
      ]
     },
     "execution_count": 6,
     "metadata": {},
     "output_type": "execute_result"
    }
   ],
   "source": [
    "mySet\n",
    "\n",
    "\n"
   ]
  },
  {
   "cell_type": "code",
   "execution_count": 77,
   "metadata": {
    "colab": {
     "base_uri": "https://localhost:8080/"
    },
    "executionInfo": {
     "elapsed": 394,
     "status": "ok",
     "timestamp": 1675762053762,
     "user": {
      "displayName": "Kiran Sharma",
      "userId": "01640249422164805524"
     },
     "user_tz": -330
    },
    "id": "Zt0qyc-WM0Te",
    "outputId": "97d04614-dfb0-4b4a-a728-a895ffa2836c"
   },
   "outputs": [
    {
     "data": {
      "text/plain": [
       "{(10, 20), 20, 30, 40, 'ABC'}"
      ]
     },
     "execution_count": 77,
     "metadata": {},
     "output_type": "execute_result"
    }
   ],
   "source": [
    "mySet.discard(100)\n",
    "mySet"
   ]
  },
  {
   "cell_type": "code",
   "execution_count": 81,
   "metadata": {
    "executionInfo": {
     "elapsed": 9,
     "status": "ok",
     "timestamp": 1675762107701,
     "user": {
      "displayName": "Kiran Sharma",
      "userId": "01640249422164805524"
     },
     "user_tz": -330
    },
    "id": "Czu24ShZM5u3"
   },
   "outputs": [],
   "source": [
    "mySet.add( (20,30) ) # saves single value. Acts like append of list"
   ]
  },
  {
   "cell_type": "code",
   "execution_count": 82,
   "metadata": {
    "colab": {
     "base_uri": "https://localhost:8080/"
    },
    "executionInfo": {
     "elapsed": 3,
     "status": "ok",
     "timestamp": 1675762109313,
     "user": {
      "displayName": "Kiran Sharma",
      "userId": "01640249422164805524"
     },
     "user_tz": -330
    },
    "id": "o3BjUB9uNAHv",
    "outputId": "62847fb0-46f1-4042-e3f9-f8a38131104b"
   },
   "outputs": [
    {
     "data": {
      "text/plain": [
       "{(10, 20), (20, 30), 1919, 20, 30, 40, 'ABC'}"
      ]
     },
     "execution_count": 82,
     "metadata": {},
     "output_type": "execute_result"
    }
   ],
   "source": [
    "mySet"
   ]
  },
  {
   "cell_type": "code",
   "execution_count": 83,
   "metadata": {
    "executionInfo": {
     "elapsed": 12,
     "status": "ok",
     "timestamp": 1675762147760,
     "user": {
      "displayName": "Kiran Sharma",
      "userId": "01640249422164805524"
     },
     "user_tz": -330
    },
    "id": "ULM_eD_8NAcO"
   },
   "outputs": [],
   "source": [
    "mySet.update([19,20,30]) #saves each values. Acts like extend of List. "
   ]
  },
  {
   "cell_type": "code",
   "execution_count": 85,
   "metadata": {
    "colab": {
     "base_uri": "https://localhost:8080/"
    },
    "executionInfo": {
     "elapsed": 4,
     "status": "ok",
     "timestamp": 1675762193812,
     "user": {
      "displayName": "Kiran Sharma",
      "userId": "01640249422164805524"
     },
     "user_tz": -330
    },
    "id": "6NENfAK8NR3m",
    "outputId": "d75b6c2b-cdf1-4fb4-9b9a-e81154ae3596"
   },
   "outputs": [
    {
     "data": {
      "text/plain": [
       "{(10, 20), (20, 30), 19, 1919, 20, 30, 40, 'ABC', 'a', 'g', 'o'}"
      ]
     },
     "execution_count": 85,
     "metadata": {},
     "output_type": "execute_result"
    }
   ],
   "source": [
    "mySet.update(\"goa\")\n",
    "mySet"
   ]
  },
  {
   "cell_type": "code",
   "execution_count": 86,
   "metadata": {
    "executionInfo": {
     "elapsed": 3,
     "status": "ok",
     "timestamp": 1675762311963,
     "user": {
      "displayName": "Kiran Sharma",
      "userId": "01640249422164805524"
     },
     "user_tz": -330
    },
    "id": "WIwXX24eNb32"
   },
   "outputs": [],
   "source": [
    "mySet.update( {\"name\":\"Abc\",\"age\":10})"
   ]
  },
  {
   "cell_type": "code",
   "execution_count": 87,
   "metadata": {
    "colab": {
     "base_uri": "https://localhost:8080/"
    },
    "executionInfo": {
     "elapsed": 12,
     "status": "ok",
     "timestamp": 1675762315438,
     "user": {
      "displayName": "Kiran Sharma",
      "userId": "01640249422164805524"
     },
     "user_tz": -330
    },
    "id": "oGmQwscKN55O",
    "outputId": "06db406c-5086-44ef-a9d6-1b148bff5659"
   },
   "outputs": [
    {
     "data": {
      "text/plain": [
       "{(10, 20), (20, 30), 19, 1919, 20, 30, 40, 'ABC', 'a', 'age', 'g', 'name', 'o'}"
      ]
     },
     "execution_count": 87,
     "metadata": {},
     "output_type": "execute_result"
    }
   ],
   "source": [
    "mySet"
   ]
  },
  {
   "cell_type": "code",
   "execution_count": 88,
   "metadata": {
    "colab": {
     "base_uri": "https://localhost:8080/"
    },
    "executionInfo": {
     "elapsed": 8,
     "status": "ok",
     "timestamp": 1675762343751,
     "user": {
      "displayName": "Kiran Sharma",
      "userId": "01640249422164805524"
     },
     "user_tz": -330
    },
    "id": "h-fpXXd2N6sm",
    "outputId": "917af5f1-bfd4-4a19-f17f-9bb0fcf08cdf"
   },
   "outputs": [
    {
     "name": "stdout",
     "output_type": "stream",
     "text": [
      "name\n",
      "age\n"
     ]
    }
   ],
   "source": [
    "for data in {\"name\":\"Abc\",\"age\":10}:\n",
    "  print(data)"
   ]
  },
  {
   "cell_type": "code",
   "execution_count": 95,
   "metadata": {
    "colab": {
     "base_uri": "https://localhost:8080/"
    },
    "executionInfo": {
     "elapsed": 362,
     "status": "ok",
     "timestamp": 1675769414670,
     "user": {
      "displayName": "Kiran Sharma",
      "userId": "01640249422164805524"
     },
     "user_tz": -330
    },
    "id": "KHcfVJVXOBqW",
    "outputId": "da8deb41-4900-4213-e04c-2b0fa71003e8"
   },
   "outputs": [
    {
     "data": {
      "text/plain": [
       "1919"
      ]
     },
     "execution_count": 95,
     "metadata": {},
     "output_type": "execute_result"
    }
   ],
   "source": [
    "mySet\n",
    "\n",
    "data"
   ]
  },
  {
   "cell_type": "code",
   "execution_count": 96,
   "metadata": {
    "colab": {
     "base_uri": "https://localhost:8080/"
    },
    "executionInfo": {
     "elapsed": 416,
     "status": "ok",
     "timestamp": 1675769437941,
     "user": {
      "displayName": "Kiran Sharma",
      "userId": "01640249422164805524"
     },
     "user_tz": -330
    },
    "id": "4lWraxMInl_o",
    "outputId": "b44848d2-4fc9-4d08-c1b9-cc76b98ff7ab"
   },
   "outputs": [
    {
     "name": "stdout",
     "output_type": "stream",
     "text": [
      "(20, 30)\n",
      "40\n",
      "(10, 20)\n",
      "g\n",
      "a\n",
      "19\n",
      "20\n",
      "name\n",
      "ABC\n",
      "age\n",
      "o\n",
      "30\n",
      "1919\n"
     ]
    }
   ],
   "source": [
    "for data in mySet:\n",
    "  print(data)"
   ]
  },
  {
   "cell_type": "code",
   "execution_count": 91,
   "metadata": {
    "colab": {
     "base_uri": "https://localhost:8080/"
    },
    "executionInfo": {
     "elapsed": 364,
     "status": "ok",
     "timestamp": 1675769144623,
     "user": {
      "displayName": "Kiran Sharma",
      "userId": "01640249422164805524"
     },
     "user_tz": -330
    },
    "id": "gHhAtTXenp36",
    "outputId": "0956a503-e216-4911-ffe2-8dec15580fbf"
   },
   "outputs": [
    {
     "data": {
      "text/plain": [
       "[(20, 30), 40, (10, 20), 'g', 'a', 19, 20, 'name', 'ABC', 'age', 'o', 30, 1919]"
      ]
     },
     "execution_count": 91,
     "metadata": {},
     "output_type": "execute_result"
    }
   ],
   "source": [
    "list(mySet)"
   ]
  },
  {
   "cell_type": "code",
   "execution_count": 92,
   "metadata": {
    "colab": {
     "base_uri": "https://localhost:8080/"
    },
    "executionInfo": {
     "elapsed": 338,
     "status": "ok",
     "timestamp": 1675769368049,
     "user": {
      "displayName": "Kiran Sharma",
      "userId": "01640249422164805524"
     },
     "user_tz": -330
    },
    "id": "ie42nRk5n92I",
    "outputId": "880253a2-6578-4097-eb2c-9cb81283de60"
   },
   "outputs": [
    {
     "data": {
      "text/plain": [
       "{(10, 20), (20, 30), 19, 1919, 20, 30, 40, 'ABC', 'a', 'age', 'g', 'name', 'o'}"
      ]
     },
     "execution_count": 92,
     "metadata": {},
     "output_type": "execute_result"
    }
   ],
   "source": [
    "mySet"
   ]
  },
  {
   "cell_type": "code",
   "execution_count": 94,
   "metadata": {
    "colab": {
     "base_uri": "https://localhost:8080/"
    },
    "executionInfo": {
     "elapsed": 17,
     "status": "ok",
     "timestamp": 1675769393564,
     "user": {
      "displayName": "Kiran Sharma",
      "userId": "01640249422164805524"
     },
     "user_tz": -330
    },
    "id": "QbF71KUJo0hn",
    "outputId": "72fe6def-5232-4822-dbaf-d6466153faf6"
   },
   "outputs": [
    {
     "name": "stdout",
     "output_type": "stream",
     "text": [
      "(20, 30)\n",
      "40\n",
      "(10, 20)\n",
      "g\n",
      "a\n",
      "19\n",
      "20\n",
      "name\n",
      "ABC\n",
      "age\n",
      "o\n",
      "30\n",
      "1919\n"
     ]
    }
   ],
   "source": [
    "for data in mySet:\n",
    "  print(data)"
   ]
  },
  {
   "cell_type": "code",
   "execution_count": null,
   "metadata": {
    "id": "d-KzfT0Vo3iv"
   },
   "outputs": [],
   "source": []
  }
 ],
 "metadata": {
  "colab": {
   "provenance": [
    {
     "file_id": "1aZgK95P9mfLoHrp7FzILPm9zLTABls5L",
     "timestamp": 1675754607649
    }
   ]
  },
  "kernelspec": {
   "display_name": "Python 3 (ipykernel)",
   "language": "python",
   "name": "python3"
  },
  "language_info": {
   "codemirror_mode": {
    "name": "ipython",
    "version": 3
   },
   "file_extension": ".py",
   "mimetype": "text/x-python",
   "name": "python",
   "nbconvert_exporter": "python",
   "pygments_lexer": "ipython3",
   "version": "3.9.13"
  }
 },
 "nbformat": 4,
 "nbformat_minor": 1
}
