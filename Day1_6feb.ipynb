{
 "cells": [
  {
   "cell_type": "code",
   "execution_count": 4,
   "metadata": {
    "colab": {
     "base_uri": "https://localhost:8080/"
    },
    "executionInfo": {
     "elapsed": 15,
     "status": "ok",
     "timestamp": 1675659987381,
     "user": {
      "displayName": "Kiran Sharma",
      "userId": "01640249422164805524"
     },
     "user_tz": -330
    },
    "id": "jBxD5YUgGtVL",
    "outputId": "5ee5e346-d445-4239-dd31-0247551edb63"
   },
   "outputs": [
    {
     "name": "stdout",
     "output_type": "stream",
     "text": [
      "hello world-hello tushar\n"
     ]
    }
   ],
   "source": [
    "print(\"hello world\",end=\"-\")\n",
    "print(\"hello tushar\")"
   ]
  },
  {
   "cell_type": "code",
   "execution_count": 5,
   "metadata": {
    "executionInfo": {
     "elapsed": 12,
     "status": "ok",
     "timestamp": 1675660060025,
     "user": {
      "displayName": "Kiran Sharma",
      "userId": "01640249422164805524"
     },
     "user_tz": -330
    },
    "id": "JW_9RPXnHXNg"
   },
   "outputs": [],
   "source": [
    "age=1000"
   ]
  },
  {
   "cell_type": "code",
   "execution_count": 7,
   "metadata": {
    "colab": {
     "base_uri": "https://localhost:8080/"
    },
    "executionInfo": {
     "elapsed": 15,
     "status": "ok",
     "timestamp": 1675660093507,
     "user": {
      "displayName": "Kiran Sharma",
      "userId": "01640249422164805524"
     },
     "user_tz": -330
    },
    "id": "Th79t956H2JX",
    "outputId": "6b583b13-2b63-4c54-aa8a-62d727e0a47c"
   },
   "outputs": [
    {
     "name": "stdout",
     "output_type": "stream",
     "text": [
      "<class 'int'>\n"
     ]
    }
   ],
   "source": [
    "print( type(age) )"
   ]
  },
  {
   "cell_type": "code",
   "execution_count": 8,
   "metadata": {
    "executionInfo": {
     "elapsed": 6,
     "status": "ok",
     "timestamp": 1675660123281,
     "user": {
      "displayName": "Kiran Sharma",
      "userId": "01640249422164805524"
     },
     "user_tz": -330
    },
    "id": "GnLrFD9tH7nQ"
   },
   "outputs": [],
   "source": [
    "name=\"Tushar\""
   ]
  },
  {
   "cell_type": "code",
   "execution_count": 9,
   "metadata": {
    "colab": {
     "base_uri": "https://localhost:8080/"
    },
    "executionInfo": {
     "elapsed": 7,
     "status": "ok",
     "timestamp": 1675660130597,
     "user": {
      "displayName": "Kiran Sharma",
      "userId": "01640249422164805524"
     },
     "user_tz": -330
    },
    "id": "Qat4rWLRIFjg",
    "outputId": "aa712d9d-3dbd-458d-c99f-98452d25a26d"
   },
   "outputs": [
    {
     "name": "stdout",
     "output_type": "stream",
     "text": [
      "<class 'str'>\n"
     ]
    }
   ],
   "source": [
    "print(type(name))"
   ]
  },
  {
   "cell_type": "code",
   "execution_count": 4,
   "metadata": {
    "colab": {
     "base_uri": "https://localhost:8080/"
    },
    "executionInfo": {
     "elapsed": 10,
     "status": "ok",
     "timestamp": 1675660346470,
     "user": {
      "displayName": "Kiran Sharma",
      "userId": "01640249422164805524"
     },
     "user_tz": -330
    },
    "id": "siuTyLS_IHWm",
    "outputId": "2c5968f2-d84a-40dd-ff5f-6c2d3b5d7d71"
   },
   "outputs": [
    {
     "name": "stdout",
     "output_type": "stream",
     "text": [
      "100 1640829375952\n",
      "100 1640829375952\n",
      "100 1640829375952\n",
      "200 1640829379216\n"
     ]
    }
   ],
   "source": [
    "# For Immutable Datatype: int, string, tuple....\n",
    "age=100\n",
    "print(age, id(age))\n",
    "\n",
    "mynumber=100\n",
    "print(mynumber, id(mynumber))\n",
    "\n",
    "mybalance =100\n",
    "print(mynumber, id(mybalance))\n",
    "\n",
    "\n",
    "# All variable will get same memeory reference because value - 100 is stored only once.\n",
    "\n",
    "age=200\n",
    "print(age, id(age))\n",
    "\n",
    "\n",
    "# After changing value of age variable to 200, 200 will be stored in memory and it reference will assigned to age varaible. \n",
    "# This type of  behaviour is not applies to immutable objects but also for mutable objects.\n",
    "# There is a difference between assugning a new value to a varaible,and changing values inside the variable. \n",
    "# a = [100]\n",
    "# b = a\n",
    "# a = [100, 200]--> assgining new value to variable a. Therefore a will get a new reference of new memory address. And there \n",
    "# wouldn't be any relationship between a, b. This same behaviour is followed by immuatble objects\n",
    "# But a.append(200) --> Here a will remain the same. It will be pointing to the same memory address. However inside elemnts\n",
    "# of that memory address will get modified which will of course reflect in the b. Because b is still pointing to that\n",
    "# memory location.\n",
    "# Other way of thinking is that, mutable objects allows inside modification that's why they show wierd behavior\n",
    "# whereas immuatble object doesn't it in the first place. So things are simple in thier case. \n",
    "\n",
    "\n",
    "# continue..."
   ]
  },
  {
   "cell_type": "code",
   "execution_count": 13,
   "metadata": {},
   "outputs": [
    {
     "name": "stdout",
     "output_type": "stream",
     "text": [
      "[100] 1640912806592\n",
      "[100] 1640912806592\n",
      "[100] 1640912806592\n",
      "[100, 200] 1640912806592\n",
      "[100, 200] 1640912806592\n"
     ]
    }
   ],
   "source": [
    "# For Muttable Datatype.List, Set, Dictionary\n",
    "mynumber=[100]\n",
    "print(mynumber, id(mynumber))\n",
    "\n",
    "mybalance =mynumber\n",
    "print(mynumber, id(mynumber))\n",
    "print(mybalance, id(mybalance))\n",
    "\n",
    "mynumber.append(200)\n",
    "print(mynumber, id(mynumber))\n",
    "print(mybalance, id(mybalance))\n",
    "\n"
   ]
  },
  {
   "cell_type": "code",
   "execution_count": 15,
   "metadata": {
    "colab": {
     "base_uri": "https://localhost:8080/"
    },
    "executionInfo": {
     "elapsed": 8,
     "status": "ok",
     "timestamp": 1675660774941,
     "user": {
      "displayName": "Kiran Sharma",
      "userId": "01640249422164805524"
     },
     "user_tz": -330
    },
    "id": "F63v_VJMIScA",
    "outputId": "5c7fc6e3-a653-4445-f52e-29d25cb4b30c"
   },
   "outputs": [
    {
     "name": "stdout",
     "output_type": "stream",
     "text": [
      "<class 'str'>\n"
     ]
    }
   ],
   "source": [
    "\n",
    "gender = \"M\"\n",
    "\n",
    "print(type(gender))\n",
    "\n",
    "\n"
   ]
  },
  {
   "cell_type": "code",
   "execution_count": 17,
   "metadata": {
    "executionInfo": {
     "elapsed": 4,
     "status": "ok",
     "timestamp": 1675660816643,
     "user": {
      "displayName": "Kiran Sharma",
      "userId": "01640249422164805524"
     },
     "user_tz": -330
    },
    "id": "W1yjpougKkdi"
   },
   "outputs": [],
   "source": [
    "address=\"\"\"street name\n",
    "city name\n",
    "state\n",
    "pincode\"\"\""
   ]
  },
  {
   "cell_type": "code",
   "execution_count": 20,
   "metadata": {
    "colab": {
     "base_uri": "https://localhost:8080/"
    },
    "executionInfo": {
     "elapsed": 7,
     "status": "ok",
     "timestamp": 1675660855042,
     "user": {
      "displayName": "Kiran Sharma",
      "userId": "01640249422164805524"
     },
     "user_tz": -330
    },
    "id": "l1Lg9IvFKrb0",
    "outputId": "78f69ac7-67a1-4d7f-b244-e53bb895a6ca"
   },
   "outputs": [
    {
     "name": "stdout",
     "output_type": "stream",
     "text": [
      "street name\n",
      "city name\n",
      "state\n",
      "pincode\n"
     ]
    }
   ],
   "source": [
    "address='''street name\n",
    "city name\n",
    "state\n",
    "pincode'''\n",
    "\n",
    "print(address)"
   ]
  },
  {
   "cell_type": "code",
   "execution_count": 21,
   "metadata": {
    "colab": {
     "base_uri": "https://localhost:8080/",
     "height": 35
    },
    "executionInfo": {
     "elapsed": 14,
     "status": "ok",
     "timestamp": 1675660972545,
     "user": {
      "displayName": "Kiran Sharma",
      "userId": "01640249422164805524"
     },
     "user_tz": -330
    },
    "id": "cfW4fqSiKw2Y",
    "outputId": "909978a8-99cc-446e-e927-5e57b5d43d39"
   },
   "outputs": [
    {
     "data": {
      "application/vnd.google.colaboratory.intrinsic+json": {
       "type": "string"
      },
      "text/plain": [
       "'\\nthis is \\nmulti line comment\\n'"
      ]
     },
     "execution_count": 21,
     "metadata": {},
     "output_type": "execute_result"
    }
   ],
   "source": [
    "#  multi line comment\n",
    "'''\n",
    "this is \n",
    "multi line comment\n",
    "'''\n",
    "\n"
   ]
  },
  {
   "cell_type": "code",
   "execution_count": 22,
   "metadata": {
    "colab": {
     "base_uri": "https://localhost:8080/"
    },
    "executionInfo": {
     "elapsed": 15,
     "status": "ok",
     "timestamp": 1675661086114,
     "user": {
      "displayName": "Kiran Sharma",
      "userId": "01640249422164805524"
     },
     "user_tz": -330
    },
    "id": "vygL-KX3LUyA",
    "outputId": "7317f473-1c41-473d-b82b-74f8a4080850"
   },
   "outputs": [
    {
     "name": "stdout",
     "output_type": "stream",
     "text": [
      "hey my company is futurense email is tushargoyal@gmail.com user id is tushargoyal\n"
     ]
    }
   ],
   "source": [
    "#  formatting the string\n",
    "\n",
    "myuser =\"tushargoyal\"\n",
    "email=\"tushargoyal@gmail.com\"\n",
    "company=\"futurense\"\n",
    "\n",
    "print(\"hey my company is\",company,\"email is\",email,\"user id is\",myuser)"
   ]
  },
  {
   "cell_type": "code",
   "execution_count": 25,
   "metadata": {
    "colab": {
     "base_uri": "https://localhost:8080/"
    },
    "executionInfo": {
     "elapsed": 8,
     "status": "ok",
     "timestamp": 1675661226042,
     "user": {
      "displayName": "Kiran Sharma",
      "userId": "01640249422164805524"
     },
     "user_tz": -330
    },
    "id": "cZiuyASMLwdP",
    "outputId": "e3d20146-fac2-49dc-e322-47b8b47608ab"
   },
   "outputs": [
    {
     "name": "stdout",
     "output_type": "stream",
     "text": [
      "hey my company is futurense email is tushargoyal@gmail.com user id is tushargoyal\n"
     ]
    }
   ],
   "source": [
    "#  %s, %d\n",
    "print(f\"hey my company is {company} email is {email} user id is {myuser}\")"
   ]
  },
  {
   "cell_type": "code",
   "execution_count": 26,
   "metadata": {
    "colab": {
     "base_uri": "https://localhost:8080/"
    },
    "executionInfo": {
     "elapsed": 14,
     "status": "ok",
     "timestamp": 1675661453825,
     "user": {
      "displayName": "Kiran Sharma",
      "userId": "01640249422164805524"
     },
     "user_tz": -330
    },
    "id": "YzXbyMNwMJdT",
    "outputId": "b5c8648b-21a1-407d-e815-0e4fde553492"
   },
   "outputs": [
    {
     "name": "stdout",
     "output_type": "stream",
     "text": [
      "hey user tushar\n",
      "hey user tushar\n"
     ]
    }
   ],
   "source": [
    "username=\"tushar\"\n",
    "greeting = f\"hey user {username}\"\n",
    "\n",
    "print(greeting)\n",
    "\n",
    "username=\"Mayank\"\n",
    "print(greeting)\n",
    "\n",
    "\n"
   ]
  },
  {
   "cell_type": "code",
   "execution_count": 27,
   "metadata": {
    "colab": {
     "base_uri": "https://localhost:8080/"
    },
    "executionInfo": {
     "elapsed": 4,
     "status": "ok",
     "timestamp": 1675661538479,
     "user": {
      "displayName": "Kiran Sharma",
      "userId": "01640249422164805524"
     },
     "user_tz": -330
    },
    "id": "eJrVRV3bNKTY",
    "outputId": "891671d7-166c-41b1-ec9c-45d90a38d178"
   },
   "outputs": [
    {
     "name": "stdout",
     "output_type": "stream",
     "text": [
      "hey user Tushar\n"
     ]
    }
   ],
   "source": [
    "username=\"Tushar\"\n",
    "print( \"hey user {}\".format(username) )"
   ]
  },
  {
   "cell_type": "code",
   "execution_count": 14,
   "metadata": {
    "colab": {
     "base_uri": "https://localhost:8080/"
    },
    "executionInfo": {
     "elapsed": 6,
     "status": "ok",
     "timestamp": 1675661618256,
     "user": {
      "displayName": "Kiran Sharma",
      "userId": "01640249422164805524"
     },
     "user_tz": -330
    },
    "id": "8fLrKX88NfEE",
    "outputId": "b5d91e5c-7028-4c99-86e3-326ccbd20726"
   },
   "outputs": [
    {
     "name": "stdout",
     "output_type": "stream",
     "text": [
      "hey user Jeet mail id is jeet@gmail.com\n",
      "hey user jeet@gmail.com mail id is jeet@gmail.com\n",
      "hey user jeet@gmail.com mail id is Jeet\n"
     ]
    }
   ],
   "source": [
    "print( \"hey user {0} mail id is {1}\".format(\"Jeet\",\"jeet@gmail.com\") )\n",
    "\n",
    "print( \"hey user {1} mail id is {1}\".format(\"Jeet\",\"jeet@gmail.com\") )\n",
    "print( \"hey user {1} mail id is {0}\".format(\"Jeet\",\"jeet@gmail.com\") )"
   ]
  },
  {
   "cell_type": "code",
   "execution_count": 35,
   "metadata": {
    "executionInfo": {
     "elapsed": 3,
     "status": "ok",
     "timestamp": 1675663021027,
     "user": {
      "displayName": "Kiran Sharma",
      "userId": "01640249422164805524"
     },
     "user_tz": -330
    },
    "id": "hhC37XhJN5tH"
   },
   "outputs": [],
   "source": [
    "#  identifier vs keyword\n",
    "\n",
    "#  today implementation assignment => use the formatting for convertign the float number into string\n",
    "\n",
    "\n"
   ]
  },
  {
   "cell_type": "code",
   "execution_count": 37,
   "metadata": {
    "colab": {
     "base_uri": "https://localhost:8080/"
    },
    "executionInfo": {
     "elapsed": 6,
     "status": "ok",
     "timestamp": 1675663166517,
     "user": {
      "displayName": "Kiran Sharma",
      "userId": "01640249422164805524"
     },
     "user_tz": -330
    },
    "id": "tf9AA60RTI2F",
    "outputId": "2534e938-4176-4e1b-fa9c-c99efb4bab57"
   },
   "outputs": [
    {
     "data": {
      "text/plain": [
       "6.666666666666667"
      ]
     },
     "execution_count": 37,
     "metadata": {},
     "output_type": "execute_result"
    }
   ],
   "source": [
    "# operators\n",
    "'''\n",
    "symbole => functionary  \n",
    "\n",
    "1+2 => +  , 1,2 operands\n",
    "\n",
    "Arithmetic\n",
    "assignmet\n",
    "comparison\n",
    "logical\n",
    "bitwise\n",
    "membership\n",
    "identity\n",
    "\n",
    "\n",
    "\n",
    "'''\n",
    "\n",
    "#  + - * / //(Float Division) , **, %\n",
    "20/3\n",
    "\n",
    "\n"
   ]
  },
  {
   "cell_type": "code",
   "execution_count": 38,
   "metadata": {
    "colab": {
     "base_uri": "https://localhost:8080/"
    },
    "executionInfo": {
     "elapsed": 6,
     "status": "ok",
     "timestamp": 1675663175294,
     "user": {
      "displayName": "Kiran Sharma",
      "userId": "01640249422164805524"
     },
     "user_tz": -330
    },
    "id": "hT8pAVftTM01",
    "outputId": "048bbf36-3382-422b-fa20-c1acb9ef80a9"
   },
   "outputs": [
    {
     "data": {
      "text/plain": [
       "6"
      ]
     },
     "execution_count": 38,
     "metadata": {},
     "output_type": "execute_result"
    }
   ],
   "source": [
    "20//3 # Float Division"
   ]
  },
  {
   "cell_type": "code",
   "execution_count": 39,
   "metadata": {
    "colab": {
     "base_uri": "https://localhost:8080/"
    },
    "executionInfo": {
     "elapsed": 360,
     "status": "ok",
     "timestamp": 1675663201860,
     "user": {
      "displayName": "Kiran Sharma",
      "userId": "01640249422164805524"
     },
     "user_tz": -330
    },
    "id": "eMJuj9kBTPIj",
    "outputId": "2f3c8002-a0a5-48c4-ad22-99a14d3db7ab"
   },
   "outputs": [
    {
     "data": {
      "text/plain": [
       "8"
      ]
     },
     "execution_count": 39,
     "metadata": {},
     "output_type": "execute_result"
    }
   ],
   "source": [
    "2**3"
   ]
  },
  {
   "cell_type": "code",
   "execution_count": 40,
   "metadata": {
    "colab": {
     "base_uri": "https://localhost:8080/"
    },
    "executionInfo": {
     "elapsed": 600,
     "status": "ok",
     "timestamp": 1675663211971,
     "user": {
      "displayName": "Kiran Sharma",
      "userId": "01640249422164805524"
     },
     "user_tz": -330
    },
    "id": "jTXQ66a3TPFy",
    "outputId": "9f982e23-9e8c-4443-d012-63a770b7b217"
   },
   "outputs": [
    {
     "data": {
      "text/plain": [
       "2"
      ]
     },
     "execution_count": 40,
     "metadata": {},
     "output_type": "execute_result"
    }
   ],
   "source": [
    "20%3"
   ]
  },
  {
   "cell_type": "code",
   "execution_count": 41,
   "metadata": {
    "colab": {
     "base_uri": "https://localhost:8080/"
    },
    "executionInfo": {
     "elapsed": 376,
     "status": "ok",
     "timestamp": 1675663324474,
     "user": {
      "displayName": "Kiran Sharma",
      "userId": "01640249422164805524"
     },
     "user_tz": -330
    },
    "id": "aiyU7xQQTPCg",
    "outputId": "2603cd24-c918-4852-ab32-7d0c671ce323"
   },
   "outputs": [
    {
     "data": {
      "text/plain": [
       "5.5"
      ]
     },
     "execution_count": 41,
     "metadata": {},
     "output_type": "execute_result"
    }
   ],
   "source": [
    "2*3//2*5/2-2"
   ]
  },
  {
   "cell_type": "code",
   "execution_count": 42,
   "metadata": {
    "colab": {
     "base_uri": "https://localhost:8080/"
    },
    "executionInfo": {
     "elapsed": 1070,
     "status": "ok",
     "timestamp": 1675663383135,
     "user": {
      "displayName": "Kiran Sharma",
      "userId": "01640249422164805524"
     },
     "user_tz": -330
    },
    "id": "rnaw4JOFTO_M",
    "outputId": "132e185f-2ff1-4c9c-f708-4fcd52cac07b"
   },
   "outputs": [
    {
     "data": {
      "text/plain": [
       "77.0"
      ]
     },
     "execution_count": 42,
     "metadata": {},
     "output_type": "execute_result"
    }
   ],
   "source": [
    "5*2/2+8*9"
   ]
  },
  {
   "cell_type": "code",
   "execution_count": 43,
   "metadata": {
    "colab": {
     "base_uri": "https://localhost:8080/"
    },
    "executionInfo": {
     "elapsed": 23,
     "status": "ok",
     "timestamp": 1675663404507,
     "user": {
      "displayName": "Kiran Sharma",
      "userId": "01640249422164805524"
     },
     "user_tz": -330
    },
    "id": "QGHEp8iJTO54",
    "outputId": "8e7c81f8-43ff-4f85-fd12-29a2da02c3fe"
   },
   "outputs": [
    {
     "data": {
      "text/plain": [
       "10.0"
      ]
     },
     "execution_count": 43,
     "metadata": {},
     "output_type": "execute_result"
    }
   ],
   "source": [
    "1.0+9"
   ]
  },
  {
   "cell_type": "code",
   "execution_count": 44,
   "metadata": {
    "colab": {
     "base_uri": "https://localhost:8080/",
     "height": 52
    },
    "executionInfo": {
     "elapsed": 28,
     "status": "ok",
     "timestamp": 1675663538177,
     "user": {
      "displayName": "Kiran Sharma",
      "userId": "01640249422164805524"
     },
     "user_tz": -330
    },
    "id": "o3gEQMapTOzE",
    "outputId": "b8e95149-aa38-4b15-c217-6d7bb5b81cf7"
   },
   "outputs": [
    {
     "data": {
      "application/vnd.google.colaboratory.intrinsic+json": {
       "type": "string"
      },
      "text/plain": [
       "'\\n** exponent\\n/ * // %  * ( same priority but less than exponent ) OOE  ( left to right )\\n+ - ( least priority  ooe  left to right)\\n\\n\\n'"
      ]
     },
     "execution_count": 44,
     "metadata": {},
     "output_type": "execute_result"
    }
   ],
   "source": [
    "#  priority order\n",
    "PEMDAS\n",
    "'''\n",
    "** exponent  ( right to left)\n",
    "/ * // %  * ( same priority but less than exponent ) OOE  ( left to right whoever comes first among them)\n",
    "+ - ( least priority)  ooe  (left to right  whoever comes first among them)\n",
    "\n",
    "\n",
    "'''"
   ]
  },
  {
   "cell_type": "code",
   "execution_count": 45,
   "metadata": {
    "colab": {
     "base_uri": "https://localhost:8080/"
    },
    "executionInfo": {
     "elapsed": 5,
     "status": "ok",
     "timestamp": 1675663602038,
     "user": {
      "displayName": "Kiran Sharma",
      "userId": "01640249422164805524"
     },
     "user_tz": -330
    },
    "id": "XguICI67TOoc",
    "outputId": "5c2057d2-9b53-4633-dd86-b3f7f8abc323"
   },
   "outputs": [
    {
     "data": {
      "text/plain": [
       "512"
      ]
     },
     "execution_count": 45,
     "metadata": {},
     "output_type": "execute_result"
    }
   ],
   "source": [
    "2**3**2\n",
    "# 2**9 => 512\n",
    "\n"
   ]
  },
  {
   "cell_type": "code",
   "execution_count": 46,
   "metadata": {
    "colab": {
     "base_uri": "https://localhost:8080/"
    },
    "executionInfo": {
     "elapsed": 5,
     "status": "ok",
     "timestamp": 1675663615911,
     "user": {
      "displayName": "Kiran Sharma",
      "userId": "01640249422164805524"
     },
     "user_tz": -330
    },
    "id": "RofdmR3CVWu1",
    "outputId": "507a56b5-2d48-4c80-e623-948e6e7a88bf"
   },
   "outputs": [
    {
     "data": {
      "text/plain": [
       "512"
      ]
     },
     "execution_count": 46,
     "metadata": {},
     "output_type": "execute_result"
    }
   ],
   "source": [
    "2**(3**2)"
   ]
  },
  {
   "cell_type": "code",
   "execution_count": 47,
   "metadata": {
    "colab": {
     "base_uri": "https://localhost:8080/",
     "height": 201
    },
    "executionInfo": {
     "elapsed": 12,
     "status": "error",
     "timestamp": 1675663747846,
     "user": {
      "displayName": "Kiran Sharma",
      "userId": "01640249422164805524"
     },
     "user_tz": -330
    },
    "id": "HqJCmQdaVaL1",
    "outputId": "0f84a6e2-779c-4342-851b-a80e4a36db0a"
   },
   "outputs": [
    {
     "ename": "NameError",
     "evalue": "ignored",
     "output_type": "error",
     "traceback": [
      "\u001b[0;31m---------------------------------------------------------------------------\u001b[0m",
      "\u001b[0;31mNameError\u001b[0m                                 Traceback (most recent call last)",
      "\u001b[0;32m<ipython-input-47-8ba1a2392b5f>\u001b[0m in \u001b[0;36m<module>\u001b[0;34m\u001b[0m\n\u001b[1;32m     10\u001b[0m \u001b[0;31m# x+=5\u001b[0m\u001b[0;34m\u001b[0m\u001b[0;34m\u001b[0m\u001b[0;34m\u001b[0m\u001b[0m\n\u001b[1;32m     11\u001b[0m \u001b[0;34m\u001b[0m\u001b[0m\n\u001b[0;32m---> 12\u001b[0;31m \u001b[0my\u001b[0m\u001b[0;34m+=\u001b[0m\u001b[0;36m4\u001b[0m\u001b[0;34m\u001b[0m\u001b[0;34m\u001b[0m\u001b[0m\n\u001b[0m",
      "\u001b[0;31mNameError\u001b[0m: name 'y' is not defined"
     ]
    }
   ],
   "source": [
    "# Assignment\n",
    "\n",
    "#  literal\n",
    "x=10\n",
    "\n",
    "\n",
    "#  right hand side expression\n",
    "x=x+5\n",
    "\n",
    "\n",
    "# x+=5\n",
    "\n",
    "#  -=   ,  *=, **= ,  /=\n",
    "# y+=4\n"
   ]
  },
  {
   "cell_type": "code",
   "execution_count": 50,
   "metadata": {
    "colab": {
     "base_uri": "https://localhost:8080/"
    },
    "executionInfo": {
     "elapsed": 8,
     "status": "ok",
     "timestamp": 1675663925432,
     "user": {
      "displayName": "Kiran Sharma",
      "userId": "01640249422164805524"
     },
     "user_tz": -330
    },
    "id": "rwER3yalV6UM",
    "outputId": "547e413b-cc4c-4ddf-d1e3-64920df2aef0"
   },
   "outputs": [
    {
     "data": {
      "text/plain": [
       "True"
      ]
     },
     "execution_count": 50,
     "metadata": {},
     "output_type": "execute_result"
    }
   ],
   "source": [
    "#  comparison\n",
    "\n",
    "\n",
    "#  right operand to left operand\n",
    "x==10\n",
    "\n",
    "#  > , >= ,< , <=, != \n",
    "x!=20"
   ]
  },
  {
   "cell_type": "code",
   "execution_count": 55,
   "metadata": {
    "colab": {
     "base_uri": "https://localhost:8080/"
    },
    "executionInfo": {
     "elapsed": 6,
     "status": "ok",
     "timestamp": 1675664185334,
     "user": {
      "displayName": "Kiran Sharma",
      "userId": "01640249422164805524"
     },
     "user_tz": -330
    },
    "id": "LzP9rdLeWRLl",
    "outputId": "73215ef8-535c-4a04-83a3-75324540d680"
   },
   "outputs": [
    {
     "data": {
      "text/plain": [
       "True"
      ]
     },
     "execution_count": 55,
     "metadata": {},
     "output_type": "execute_result"
    }
   ],
   "source": [
    "#  Logical operator\n",
    "\n",
    "#  conditions  => valid ( one or two)\n",
    "\n",
    "\n",
    "age=10\n",
    "salary=99\n",
    "\n",
    "age==10 and salary==99"
   ]
  },
  {
   "cell_type": "code",
   "execution_count": 58,
   "metadata": {
    "colab": {
     "base_uri": "https://localhost:8080/"
    },
    "executionInfo": {
     "elapsed": 5,
     "status": "ok",
     "timestamp": 1675664219875,
     "user": {
      "displayName": "Kiran Sharma",
      "userId": "01640249422164805524"
     },
     "user_tz": -330
    },
    "id": "wNG3Lad3WuPE",
    "outputId": "36fd2291-4443-4364-9d28-0bbbdc6b4465"
   },
   "outputs": [
    {
     "data": {
      "text/plain": [
       "False"
      ]
     },
     "execution_count": 58,
     "metadata": {},
     "output_type": "execute_result"
    }
   ],
   "source": [
    "age==10000 or salary==9119"
   ]
  },
  {
   "cell_type": "code",
   "execution_count": 59,
   "metadata": {
    "colab": {
     "base_uri": "https://localhost:8080/"
    },
    "executionInfo": {
     "elapsed": 6,
     "status": "ok",
     "timestamp": 1675664485202,
     "user": {
      "displayName": "Kiran Sharma",
      "userId": "01640249422164805524"
     },
     "user_tz": -330
    },
    "id": "O858Lg0KXrc9",
    "outputId": "be282081-ebac-48a7-f802-2938a6bebd10"
   },
   "outputs": [
    {
     "data": {
      "text/plain": [
       "5"
      ]
     },
     "execution_count": 59,
     "metadata": {},
     "output_type": "execute_result"
    }
   ],
   "source": [
    "#  bitwise operator\n",
    "\n",
    "#  0,1 \n",
    "\n",
    "7 &13 AND Operation\n"
   ]
  },
  {
   "cell_type": "code",
   "execution_count": 15,
   "metadata": {
    "colab": {
     "base_uri": "https://localhost:8080/"
    },
    "executionInfo": {
     "elapsed": 6,
     "status": "ok",
     "timestamp": 1675664561889,
     "user": {
      "displayName": "Kiran Sharma",
      "userId": "01640249422164805524"
     },
     "user_tz": -330
    },
    "id": "NDQbrj0LYuah",
    "outputId": "4580a9bc-679b-4d07-c44d-a1413ebf5a73"
   },
   "outputs": [
    {
     "data": {
      "text/plain": [
       "15"
      ]
     },
     "execution_count": 15,
     "metadata": {},
     "output_type": "execute_result"
    }
   ],
   "source": [
    "7 | 13 OR "
   ]
  },
  {
   "cell_type": "code",
   "execution_count": 63,
   "metadata": {
    "colab": {
     "base_uri": "https://localhost:8080/"
    },
    "executionInfo": {
     "elapsed": 5,
     "status": "ok",
     "timestamp": 1675664955259,
     "user": {
      "displayName": "Kiran Sharma",
      "userId": "01640249422164805524"
     },
     "user_tz": -330
    },
    "id": "evo_wjqnZAH8",
    "outputId": "2e192013-1930-433d-da1a-db745bdab8f9"
   },
   "outputs": [
    {
     "data": {
      "text/plain": [
       "7"
      ]
     },
     "execution_count": 63,
     "metadata": {},
     "output_type": "execute_result"
    }
   ],
   "source": [
    "# formula\n",
    "#  number // 2**bit\n",
    "#  11 / 2**1  => 11/2  =>5\n",
    "\n",
    "#  31 // 2**2\n",
    "#  31/4  => 7\n",
    "\n",
    "11>>1 - Left Shift\n",
    "\n",
    "31>>2 - Right Shift"
   ]
  },
  {
   "cell_type": "code",
   "execution_count": 65,
   "metadata": {
    "colab": {
     "base_uri": "https://localhost:8080/"
    },
    "executionInfo": {
     "elapsed": 354,
     "status": "ok",
     "timestamp": 1675665098659,
     "user": {
      "displayName": "Kiran Sharma",
      "userId": "01640249422164805524"
     },
     "user_tz": -330
    },
    "id": "Dfs2cZnRaJ4U",
    "outputId": "14694ab8-e887-4314-db91-26a39f0d1019"
   },
   "outputs": [
    {
     "data": {
      "text/plain": [
       "44"
      ]
     },
     "execution_count": 65,
     "metadata": {},
     "output_type": "execute_result"
    }
   ],
   "source": [
    "#  left side\n",
    "\n",
    "#  number *  2**bit\n",
    "\n",
    "11<<2\n",
    "\n",
    "\n",
    "#  bitwiswe XOr"
   ]
  },
  {
   "cell_type": "code",
   "execution_count": 68,
   "metadata": {
    "colab": {
     "base_uri": "https://localhost:8080/"
    },
    "executionInfo": {
     "elapsed": 3999,
     "status": "ok",
     "timestamp": 1675665229072,
     "user": {
      "displayName": "Kiran Sharma",
      "userId": "01640249422164805524"
     },
     "user_tz": -330
    },
    "id": "UdIh85HNazu1",
    "outputId": "9fcc37c6-0d32-4718-af7e-95690769c8c1"
   },
   "outputs": [
    {
     "data": {
      "text/plain": [
       "True"
      ]
     },
     "execution_count": 68,
     "metadata": {},
     "output_type": "execute_result"
    }
   ],
   "source": [
    "#  membership & identity\n",
    "\n",
    "\"B\" not in \"banglore\"\n",
    "\n"
   ]
  },
  {
   "cell_type": "code",
   "execution_count": 69,
   "metadata": {
    "colab": {
     "base_uri": "https://localhost:8080/"
    },
    "executionInfo": {
     "elapsed": 6,
     "status": "ok",
     "timestamp": 1675665293315,
     "user": {
      "displayName": "Kiran Sharma",
      "userId": "01640249422164805524"
     },
     "user_tz": -330
    },
    "id": "sWTDwem1bV7r",
    "outputId": "e35ad99a-4e95-4792-d867-b31f3bf56e35"
   },
   "outputs": [
    {
     "name": "stdout",
     "output_type": "stream",
     "text": [
      "<class 'int'>\n"
     ]
    }
   ],
   "source": [
    "#  identity  => it validate whether an object belong to a class => to validate the data tyope\n",
    "\n",
    "x=10\n",
    "\n",
    "print( type(x))"
   ]
  },
  {
   "cell_type": "code",
   "execution_count": 70,
   "metadata": {
    "colab": {
     "base_uri": "https://localhost:8080/"
    },
    "executionInfo": {
     "elapsed": 4,
     "status": "ok",
     "timestamp": 1675665323554,
     "user": {
      "displayName": "Kiran Sharma",
      "userId": "01640249422164805524"
     },
     "user_tz": -330
    },
    "id": "uLSpbPgCbzkk",
    "outputId": "d74248e1-11cf-48ed-81f9-8e5b7af83cc4"
   },
   "outputs": [
    {
     "data": {
      "text/plain": [
       "True"
      ]
     },
     "execution_count": 70,
     "metadata": {},
     "output_type": "execute_result"
    }
   ],
   "source": [
    "type(x) is int \n",
    "\n",
    "\n"
   ]
  },
  {
   "cell_type": "code",
   "execution_count": 71,
   "metadata": {
    "colab": {
     "base_uri": "https://localhost:8080/"
    },
    "executionInfo": {
     "elapsed": 5,
     "status": "ok",
     "timestamp": 1675665351326,
     "user": {
      "displayName": "Kiran Sharma",
      "userId": "01640249422164805524"
     },
     "user_tz": -330
    },
    "id": "yjL5HJHJb7BM",
    "outputId": "4881a1f0-4f79-49ea-868e-59f1f2466595"
   },
   "outputs": [
    {
     "data": {
      "text/plain": [
       "True"
      ]
     },
     "execution_count": 71,
     "metadata": {},
     "output_type": "execute_result"
    }
   ],
   "source": [
    "type(x) is not str"
   ]
  },
  {
   "cell_type": "code",
   "execution_count": 73,
   "metadata": {
    "colab": {
     "base_uri": "https://localhost:8080/"
    },
    "executionInfo": {
     "elapsed": 459,
     "status": "ok",
     "timestamp": 1675665799784,
     "user": {
      "displayName": "Kiran Sharma",
      "userId": "01640249422164805524"
     },
     "user_tz": -330
    },
    "id": "_rzmfx9YcBt9",
    "outputId": "eea3be1a-66d9-476b-a00a-9fbb6e5deb9d"
   },
   "outputs": [
    {
     "data": {
      "text/plain": [
       "True"
      ]
     },
     "execution_count": 73,
     "metadata": {},
     "output_type": "execute_result"
    }
   ],
   "source": [
    "#  python\n",
    "#  terminologies\n",
    "#  data type\n",
    "#  mutuable vs immutable\n",
    "#  operator\n",
    "#  string formatting\n",
    "\n",
    "\n",
    "# tomorrow\n",
    "# slciing \n",
    "#  condtiotiona\n",
    "#  looping\n",
    "#  program\n",
    "\n",
    "\n",
    "\n",
    "x=10\n",
    "y=10\n",
    "\n",
    "x is y compare values\n",
    "\n",
    "\n",
    "\n",
    "\n"
   ]
  },
  {
   "cell_type": "code",
   "execution_count": null,
   "metadata": {
    "id": "NIEm0_TldpnV"
   },
   "outputs": [],
   "source": []
  }
 ],
 "metadata": {
  "colab": {
   "authorship_tag": "ABX9TyMWpjexg+3TBwf8EnbmOEsP",
   "provenance": []
  },
  "kernelspec": {
   "display_name": "Python 3 (ipykernel)",
   "language": "python",
   "name": "python3"
  },
  "language_info": {
   "codemirror_mode": {
    "name": "ipython",
    "version": 3
   },
   "file_extension": ".py",
   "mimetype": "text/x-python",
   "name": "python",
   "nbconvert_exporter": "python",
   "pygments_lexer": "ipython3",
   "version": "3.9.13"
  }
 },
 "nbformat": 4,
 "nbformat_minor": 1
}
